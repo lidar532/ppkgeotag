{
  "nbformat": 4,
  "nbformat_minor": 0,
  "metadata": {
    "colab": {
      "name": "Untitled8.ipynb",
      "provenance": [],
      "private_outputs": true,
      "authorship_tag": "ABX9TyPh5aUT2Gx5Hlt9yx+u/M83",
      "include_colab_link": true
    },
    "kernelspec": {
      "name": "python3",
      "display_name": "Python 3"
    }
  },
  "cells": [
    {
      "cell_type": "markdown",
      "metadata": {
        "id": "view-in-github",
        "colab_type": "text"
      },
      "source": [
        "<a href=\"https://colab.research.google.com/github/lidar532/ppkgeotag/blob/2020-0222-dev/CORS_Lib.ipynb\" target=\"_parent\"><img src=\"https://colab.research.google.com/assets/colab-badge.svg\" alt=\"Open In Colab\"/></a>"
      ]
    },
    {
      "cell_type": "code",
      "metadata": {
        "id": "fAJ7ObwF1SGK",
        "colab_type": "code",
        "colab": {}
      },
      "source": [
        "if __name__ == '__main__':\n",
        "  CORS_to_Fetch = 'ls03, ncdu, ncbi, ncbx, ncso, ncci, ncbe'\n",
        "  print(CORS_to_Fetch.replace(',', ' ').split())\n",
        "#--------------------------------------------------------\n"
      ],
      "execution_count": null,
      "outputs": []
    },
    {
      "cell_type": "code",
      "metadata": {
        "id": "SlNxEaE91YJW",
        "colab_type": "code",
        "colab": {}
      },
      "source": [
        "\n",
        "if __name__ == '__main__':\n",
        "  get_CORS_OBS_Data()\n",
        "#--------------------------------------------------------\n"
      ],
      "execution_count": null,
      "outputs": []
    },
    {
      "cell_type": "code",
      "metadata": {
        "id": "cOfC0fNC1Zfk",
        "colab_type": "code",
        "colab": {}
      },
      "source": [
        "\n",
        "if __name__ == '__main__':\n",
        "  !cd /content;  rm -rf /content/My_Project\n",
        "#--------------------------------------------------------\n"
      ],
      "execution_count": null,
      "outputs": []
    },
    {
      "cell_type": "code",
      "metadata": {
        "id": "qxRt9QLR1bje",
        "colab_type": "code",
        "colab": {}
      },
      "source": [
        "#@title Fetch CORS GNSS data for 1 or more sites on a date. {form-width: \"25%\"}\n",
        "import datetime\n",
        "import os\n",
        "\n",
        "def get_CORS_OBS_Data( rootdir, date, Station ):\n",
        "  \"\"\"\n",
        "  inputs: string rootdir, \n",
        "          string date,  \n",
        "          string Station \n",
        "  returns\n",
        "    Nothing.  Fetches data via ftp and places in local directory structure\n",
        "  \n",
        "  Example: \n",
        "    get_CORS_OBS_Data( '/content/2019-data', '2019/11/26', 'ncdu' )\n",
        "\n",
        "  \"\"\"\n",
        "  Base_Date = date\n",
        "  Day = str(( datetime.datetime.strptime(Base_Date,'%Y/%m/%d') - datetime.datetime(2019,1,1)).days + 1 )\n",
        "  Base_FTP_Site = \"ftp://geodesy.noaa.gov/cors/rinex/\"\n",
        "  os.makedirs(Project_Root_Folder)\n",
        "  rootdir = rootdir+'/'\n",
        "  Base_root = 'CORS'\n",
        "  Year = date.split('/')[0]\n",
        "  ## Year = '2019'\n",
        "  YD = Year+'/'+Day\n",
        "  print(f'Gathering Data for: {Station}  for: {Base_Date}')\n",
        "  print(YD)\n",
        "  !mkdir -p {rootdir}\n",
        "  os.chdir(rootdir)\n",
        "  !mkdir -p {Base_root}\n",
        "  !mkdir -p {Base_root}/{Station}\n",
        "  d = rootdir+Base_root+'/'+Station\n",
        "  print(d)\n",
        "  os.chdir(d)\n",
        "  !wget -nv -nd -r {Base_FTP_Site}/{YD}/{Station}/{Station+str(Day)+'0*'}\n",
        "  os.chdir(str(rootdir+Base_root))\n",
        "  os.chdir(rootdir)\n",
        "  !gunzip -qrf .\n",
        "  print( f'Download of {Station} completed.')\n",
        "\n",
        "def get_CORS_SP3_Nav( rootdir,  date ):\n",
        "  Base_Date = date\n",
        "  Day = str(( datetime.datetime.strptime(Base_Date,'%Y/%m/%d') - datetime.datetime(2019,1,1)).days + 1 )\n",
        "  Base_FTP_Site = \"ftp://geodesy.noaa.gov/cors/rinex/\"\n",
        "  !mkdir -p {rootdir}\n",
        "  rootdir = rootdir+'/'\n",
        "  Base_root = 'CORS'\n",
        "  #Year = '2019'\n",
        "  Year = date.split('/')[0]\n",
        "  YD = Year+'/'+Day\n",
        "  print(YD)\n",
        "  os.chdir(rootdir)\n",
        "  !mkdir -p {Base_root}\n",
        "  os.chdir(str(rootdir+Base_root))\n",
        "  !mkdir -p sp3 nav\n",
        "  os.chdir('sp3')\n",
        "  print(f'   Gathering Sp3 Data for: {Base_Date}')\n",
        "  !wget -nv -nd -r {Base_FTP_Site}/{YD}/*.sp3.gz\n",
        "  os.chdir('../nav') \n",
        "  print(f'   Gathering Nav Data for: {Base_Date}')\n",
        "  !wget -nv -nd -r {Base_FTP_Site}/{YD}/*[ng].gz\n",
        "  os.chdir(rootdir)\n",
        "  !gunzip -qrf .\n",
        "  print( f'Download of {date} Nav & SP3 completed.')\n",
        "\n",
        "\n",
        "# Google Colabs test code below.\n",
        "\n",
        "if __name__ == '__main__':\n",
        "  Project_Root_Folder = \"/content/2020-0601\" #@param {type:\"string\"}\n",
        "  #@markdown ---\n",
        "  #@markdown Enter a list of CORS Stations to download below.\n",
        "  #@markdown Separate with \",\" or space character.\n",
        "  CORS_to_Fetch = \"ls03, ncdu, ncbi, ncbx, ncso, ncci, ncbe\" #@param {type:\"string\"}\n",
        "  Date_to_Fetch = \"2020-06-16\" #@param {type:\"date\"}\n",
        "\n",
        "if __name__ == '__main__':\n",
        "  Outer_Banks_CORS_List = [\n",
        "              'ls03',\n",
        "              'ncdu',\n",
        "              'ncbi', \n",
        "              'ncbx', \n",
        "              'ncci', \n",
        "              'ncbe', \n",
        "              'ncso' ]\n",
        "\n",
        "  print(Date_to_Fetch)\n",
        "  Date = Date_to_Fetch.replace('-', '/')\n",
        "  CORS_to_Fetch = CORS_to_Fetch.lower()\n",
        "  CORS_to_Fetch = CORS_to_Fetch.replace(',', ' ')\n",
        "  lst = CORS_to_Fetch.replace(',', ' ').split()\n",
        "  get_CORS_SP3_Nav(Project_Root_Folder, Date )\n",
        "  for sta in lst:\n",
        "    get_CORS_OBS_Data(Project_Root_Folder, Date, sta )\n",
        "\n",
        "#--------------------------------------------------------\n"
      ],
      "execution_count": null,
      "outputs": []
    },
    {
      "cell_type": "code",
      "metadata": {
        "id": "8fXMYAME1eaP",
        "colab_type": "code",
        "colab": {}
      },
      "source": [
        "if __name__ == '__main__':\n",
        "  #!gunzip --help\n",
        "  !cd /content/2020-0208-NC/01_gps/bases; ls; unzip ncdu039.zip -d ncdu039; ls\n",
        "#--------------------------------------------------------"
      ],
      "execution_count": null,
      "outputs": []
    }
  ]
}