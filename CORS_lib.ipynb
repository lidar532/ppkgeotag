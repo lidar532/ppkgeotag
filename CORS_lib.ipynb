{
  "nbformat": 4,
  "nbformat_minor": 0,
  "metadata": {
    "colab": {
      "name": "CORS_lib.ipynb",
      "provenance": [],
      "private_outputs": true,
      "collapsed_sections": [
        "n4fSGmU7J_to",
        "6HZaa46iBDUE"
      ],
      "authorship_tag": "ABX9TyNzPwQLKdm2I/j99HvnZtRu",
      "include_colab_link": true
    },
    "kernelspec": {
      "name": "python3",
      "display_name": "Python 3"
    }
  },
  "cells": [
    {
      "cell_type": "markdown",
      "metadata": {
        "id": "view-in-github",
        "colab_type": "text"
      },
      "source": [
        "<a href=\"https://colab.research.google.com/github/lidar532/ppkgeotag/blob/2020-0222-dev/CORS_lib.ipynb\" target=\"_parent\"><img src=\"https://colab.research.google.com/assets/colab-badge.svg\" alt=\"Open In Colab\"/></a>"
      ]
    },
    {
      "cell_type": "markdown",
      "metadata": {
        "id": "y6egFtQDyZ-0",
        "colab_type": "text"
      },
      "source": [
        "# CORS Functions.\n",
        "(c) 2020, C. W. Wright\n",
        "\n",
        "Gather RINEX data from ftp://geodesy.noaa.gov/cors/rinex/\n",
        "\n",
        "Data older than 30 days at sampling rate can be had by contacting: https://www.avl.class.noaa.gov/saa/products/search?datatype_family=CORS"
      ]
    },
    {
      "cell_type": "code",
      "metadata": {
        "id": "qxRt9QLR1bje",
        "colab_type": "code",
        "cellView": "form",
        "colab": {}
      },
      "source": [
        "#@title imports: Fetch CORS GNSS data for 1 or more sites on a date.\n",
        "\n",
        "\n",
        "import datetime\n",
        "import time\n",
        "import os\n",
        "import re\n",
        "import glob\n",
        "import pandas as pd\n",
        "import multiprocessing\n",
        "import ipywidgets as ipw\n",
        "import subprocess as sp\n",
        "\n",
        "\n",
        "try:\n",
        "  import google.colab\n",
        "  IN_COLAB = True\n",
        "except:\n",
        "  IN_COLAB = False\n"
      ],
      "execution_count": null,
      "outputs": []
    },
    {
      "cell_type": "code",
      "metadata": {
        "id": "BOER2SUHwdiL",
        "colab_type": "code",
        "cellView": "form",
        "colab": {}
      },
      "source": [
        "#@title def teqc_install()  {form-width: \"35%\"} \n",
        "# Get and install teqc\n",
        "def teqc_install():\n",
        "  rv = sp.run(f'which teqc', shell=True)\n",
        "  os.chdir('/content/')\n",
        "  if rv == []:\n",
        "    print('Download and install Teqc from Unavco.')\n",
        "    sp.run(f'wget https://www.unavco.org/software/data-processing/teqc/development/teqc_Lx86_64s.zip', shell=True)\n",
        "    sp.run(f'unzip teqc_Lx86_64s.zip', shell=True)\n",
        "    sp.run(f'mv teqc /usr/local/bin', shell=True)\n",
        "    sp.run(f'rm -rf teqc_Lx86_64s.zip', shell=True)\n",
        "  else:\n",
        "    a = 1;\n",
        "    #print('    Teqc was already installed.')\n",
        "\n"
      ],
      "execution_count": null,
      "outputs": []
    },
    {
      "cell_type": "code",
      "metadata": {
        "id": "eTPGBxOGvsAZ",
        "colab_type": "code",
        "cellView": "form",
        "colab": {}
      },
      "source": [
        "#@title def extract_year( date ) {form-width: \"35%\"}\n",
        "def extract_year( date ):\n",
        "  Year = date.split('/')[0]\n",
        "  return Year\n",
        "\n",
        "\n"
      ],
      "execution_count": null,
      "outputs": []
    },
    {
      "cell_type": "code",
      "metadata": {
        "id": "PPs4Q9sRMXEQ",
        "colab_type": "code",
        "colab": {},
        "cellView": "form"
      },
      "source": [
        "#@title def isTimeFormat(ts)  {form-width: \"35%\"}\n",
        "\n",
        "def isTimeFormat(ts):\n",
        "  \"\"\"\n",
        "  isTimeFormat(ts) checks the 'ts' input string for validity. A valid string is in\n",
        "  this format: '13:34:56'.\n",
        "\n",
        "  Returns True for a valid string,a nd False for invalid.\n",
        "  \n",
        "  \"\"\"\n",
        "  t = []\n",
        "  rv = False;\n",
        "  try:\n",
        "      t = time.strptime(ts, '%H:%M:%S')\n",
        "      rv = True;\n",
        "  except ValueError:\n",
        "      rv = False\n",
        "  return rv\n",
        "\n",
        "# testing code...\n",
        "#if __name__ == '__main__':\n",
        "#  for t in ['12:34:56',\n",
        "#            '12:34',\n",
        "#            '01:02:03',\n",
        "#            '23:01:02',\n",
        "#            '25:34:63']:\n",
        "#    print(f'rv:{isTimeFormat(t)}')"
      ],
      "execution_count": null,
      "outputs": []
    },
    {
      "cell_type": "code",
      "metadata": {
        "id": "QATOaORSrg87",
        "colab_type": "code",
        "cellView": "form",
        "colab": {}
      },
      "source": [
        "#@title def compute_day_of_year(date_str)\n",
        "def compute_day_of_year(date_str):\n",
        "  Day = int(( datetime.datetime.strptime(date_str,'%Y/%m/%d') - datetime.datetime(int(date_str.split('/')[0]),1,1)).days + 1 )\n",
        "  Day = f'{Day:03d}'\n",
        "  return Day\n"
      ],
      "execution_count": null,
      "outputs": []
    },
    {
      "cell_type": "code",
      "metadata": {
        "id": "GNTQHMy0Bo-_",
        "colab_type": "code",
        "cellView": "form",
        "colab": {}
      },
      "source": [
        "#@title def CORS_get_all_station_data()  {form-width: \"35%\"}\n",
        "\n",
        "def CORS_get_all_station_data(Project_Root_Folder, CORS_to_Fetch, date, UTC_Start_Time, UTC_End_Time):\n",
        "  teqc_install()\n",
        "  print(f'Fetching CORS Data for: {date}')\n",
        "  Date = date.replace('-', '/')\n",
        "  CORS_to_Fetch = CORS_to_Fetch.lower()\n",
        "  CORS_to_Fetch = CORS_to_Fetch.replace(',', ' ')\n",
        "  lst = CORS_to_Fetch.replace(',', ' ').split()\n",
        "  get_CORS_SP3_Nav(Project_Root_Folder, Date )\n",
        "  for sta in lst:\n",
        "    rv = get_CORS_OBS_Data(Project_Root_Folder, Date, sta, UTC_Start_Time, UTC_End_Time )\n",
        "    CORS_get_station_coords(Project_Root_Folder+'/'+'CORS/'+sta+'/', sta)\n",
        "    CORS_get_station_datasheet(Project_Root_Folder+'/'+'CORS/'+sta+'/', sta)\n",
        "  clean_up_CORS(Project_Root_Folder, Date)\n",
        "  print('All requested CORS data downloaded.  Operation completed.')\n",
        "\n"
      ],
      "execution_count": null,
      "outputs": []
    },
    {
      "cell_type": "code",
      "metadata": {
        "id": "nfB86ceBvuta",
        "colab_type": "code",
        "cellView": "form",
        "colab": {}
      },
      "source": [
        "#@title def get_CORS_OBS_Data( rootdir, date, Station, start, stop ) {form-width: \"35%\"}\n",
        "def get_CORS_OBS_Data( rootdir, date, Station, start, stop ):\n",
        "  \"\"\"\n",
        "  inputs: string rootdir,     Path where to store the CORS data.\n",
        "          string date,        Date to fetch. ex: '2019/1/1'\n",
        "          string Station,     CORS Station to fetch.\n",
        "          string start,       Start time, ex '12:00:00'\n",
        "          string stop         End time, ex. '15:30:01'\n",
        "  returns\n",
        "    Nothing.  Fetches data via ftp and places in local directory structure\n",
        "  \n",
        "  Example: \n",
        "    get_CORS_OBS_Data( '/content/2019-data', '2019/11/26', 'ncdu', '12:00:00', '15:30:01' )\n",
        "\n",
        "  \"\"\"\n",
        "  Base_Date = date\n",
        "  Day = compute_day_of_year(Base_Date)\n",
        "  #Day = int(( datetime.datetime.strptime(Base_Date,'%Y/%m/%d') - datetime.datetime(int(Base_Date.split('/')[0]),1,1)).days + 1 )\n",
        "  #Day = f'{Day:03d}'\n",
        "  Base_FTP_Site = \"ftp://geodesy.noaa.gov/cors/rinex/\"\n",
        "  try:\n",
        "    os.makedirs(rootdir, exist_ok=True)\n",
        "  except:\n",
        "    print(f'{rootdir} already exists.')\n",
        "\n",
        "  rootdir = rootdir+'/'\n",
        "  Base_root = 'CORS'\n",
        "  Year = extract_year(date)\n",
        "  Year2 = Year[2:4]\n",
        "  YD = Year+'/'+Day\n",
        "  print(f'Gathering Data for: {Station}  for: {Base_Date}')\n",
        "  # print(YD)\n",
        "  print(sp.run(f'mkdir -p {rootdir}', shell=True))\n",
        "  os.chdir(rootdir)\n",
        "  print(sp.run(f'mkdir -p {Base_root}', shell=True))\n",
        "  print(sp.run(f'mkdir -p {Base_root}/{Station}', shell=True))\n",
        "  d = rootdir+Base_root+'/'+Station\n",
        "  print(f'd={d}')\n",
        "  os.chdir(d)\n",
        "  url = f'{Base_FTP_Site}/{YD}/{Station}/{Station+str(Day)+\"0\"}.*'\n",
        "  print(f'url: {url}')\n",
        "  #os.chdir(str(rootdir+Base_root))\n",
        "  #os.chdir(rootdir)\n",
        "  os.chdir(d)\n",
        "  rv = glob.glob('*.*o')\n",
        "  print(f'Pre-existing RINEX observation files found: {rv}')\n",
        "  if (rv) != []:\n",
        "    print(f'OBS Files exist.  Skipped. rv:{rv}')\n",
        "  else:\n",
        "    print(sp.run(f'wget -nv -nd -r --no-clobber {url}', shell=True))\n",
        "    print(sp.run(f'gunzip -qr .', shell=True))\n",
        "    obsfn = rootdir+Base_root+'/'+Station+'/'+Station+str(Day)+f'0.{Year2}o'\n",
        "    print(f'Requested obs file: {obsfn}' )\n",
        "    CORS_trim_to_time( obsfn, start, stop)\n",
        "    print( f'Download of {Station} completed.')\n",
        "\n"
      ],
      "execution_count": null,
      "outputs": []
    },
    {
      "cell_type": "code",
      "metadata": {
        "id": "dbuhYnLTfhDv",
        "colab_type": "code",
        "colab": {}
      },
      "source": [
        "#!cd /content/xx; wget -nv -nd -r --no-clobber ftp://geodesy.noaa.gov/cors/rinex//2020/173/ncdu/ncdu173[a-z].20o.gz\n",
        "!!cd /content/xx; "
      ],
      "execution_count": null,
      "outputs": []
    },
    {
      "cell_type": "code",
      "metadata": {
        "id": "rxUQd_VXv0Iy",
        "colab_type": "code",
        "cellView": "form",
        "colab": {}
      },
      "source": [
        "#@title def get_CORS_SP3_Nav( rootdir,  date ) {form-width: \"10%\"}\n",
        "def get_CORS_SP3_Nav( rootdir,  date ):\n",
        "  \"\"\"\n",
        "  get_CORS_SP3_Nav( rootdir,  date )\n",
        "\n",
        "  inputs: string rootdir,     Path where to store the CORS data.\n",
        "          string date         Date to fetch. ex: '2019/1/1'\n",
        "\n",
        "  returns\n",
        "    Nothing.  Fetches SP3 data via ftp and places in local directory structure\n",
        "\n",
        "  get_CORS_SP3_Nav() gathers all of the sp3 files for a given date.  Sp3 files contain the\n",
        "  GPS Satellite Ephemerides / Satellite & Station Clocks.  More information on these files\n",
        "  can be found at: http://www.igs.org/products\n",
        "  \n",
        "  Example: \n",
        "    def get_CORS_SP3_Nav( '/content/2019-data', '2019/11/26' )\n",
        "\n",
        "\n",
        "  \"\"\"\n",
        "  Base_Date = date\n",
        "  Day = compute_day_of_year(Base_Date)\n",
        "  #Day = int(( datetime.datetime.strptime(Base_Date,'%Y/%m/%d') - datetime.datetime(int(Base_Date.split('/')[0]),1,1)).days + 1 )\n",
        "  #Day = f'{Day:03d}'\n",
        "  Base_FTP_Site = \"ftp://geodesy.noaa.gov/cors/rinex/\"\n",
        "  sp.run( f'mkdir -p {rootdir}', shell=True )\n",
        "  rootdir = rootdir+'/'\n",
        "  Base_root = 'CORS'\n",
        "  Year = extract_year(date)\n",
        "  YD = Year+'/'+Day\n",
        "  print(YD)\n",
        "  os.chdir(rootdir)\n",
        "  sp.run( f'mkdir -p {Base_root}', shell=True)\n",
        "  os.chdir(str(rootdir+Base_root))\n",
        "  sp.run(f'mkdir -p sp3 nav', shell=True)\n",
        "  os.chdir('sp3')\n",
        "  print(f'   Gathering Sp3 Data for: {Base_Date}')\n",
        "  sp.run( f'wget -nv -nd -r {Base_FTP_Site}/{YD}/*.sp3.gz', shell=True)\n",
        "  os.chdir('../nav') \n",
        "  print(f'   Gathering Nav Data for: {Base_Date}')\n",
        "  sp.run(f'wget -nv -nd -r {Base_FTP_Site}/{YD}/*[ng].gz', shell=True)\n",
        "  os.chdir(rootdir)\n",
        "  sp.run( f'gunzip -qrf .', shell=True)\n",
        "  print( f'Download of {date} Nav & SP3 completed.')\n",
        "\n"
      ],
      "execution_count": null,
      "outputs": []
    },
    {
      "cell_type": "code",
      "metadata": {
        "id": "DYIDopmhVf2f",
        "colab_type": "code",
        "cellView": "form",
        "colab": {}
      },
      "source": [
        "#@title def CORS_get_station_datasheet(dir, station) {form-width: \"10%\"}\n",
        "\n",
        "# url: https://geodesy.noaa.gov/cgi-bin/ds_cors.prl?CorsSelected=|NCDU&CorsTypeSelected=Arp\n",
        "def CORS_get_station_datasheet(dir, station):\n",
        "  station = str.lower(station)\n",
        "  print(station)\n",
        "  os.makedirs(dir, exist_ok=True)\n",
        "  rv = sp.run(f'curl  -B https://geodesy.noaa.gov/cgi-bin/ds_cors.prl?CorsSelected=|{str.upper(station)}&CorsTypeSelected=Arp > {dir}/{station}_datasheet.html', shell=True)\n",
        "  return rv\n",
        "\n"
      ],
      "execution_count": null,
      "outputs": []
    },
    {
      "cell_type": "code",
      "metadata": {
        "id": "daEj2UV8WUfX",
        "colab_type": "code",
        "cellView": "form",
        "colab": {}
      },
      "source": [
        "#@title def CORS_get_station_coords(dir, station) {form-width: \"10%\"}\n",
        "# url for data:\n",
        "def CORS_get_station_coords(dir, station):\n",
        "  station = str.lower(station)\n",
        "  os.makedirs(dir, exist_ok=True)\n",
        "  rv = sp.run(f'curl  -B ftp://geodesy.noaa.gov/cors/coord/coord_14/{station}_14.coord.txt > {dir}/{station}_14.coord.txt', shell=True)\n"
      ],
      "execution_count": null,
      "outputs": []
    },
    {
      "cell_type": "code",
      "metadata": {
        "id": "xdjg2OdywPEE",
        "colab_type": "code",
        "cellView": "form",
        "colab": {}
      },
      "source": [
        "#@title def clean_up_CORS(rdir, date) {form-width: \"10%\"}\n",
        "def clean_up_CORS(rdir, date):\n",
        "  \"\"\"\n",
        "  clean_up_CORS(rdir, date)\n",
        "  Inputs:\n",
        "  rdir      Directory to start the find command in.\n",
        "  date      The date of the CORS files to cleanup.\n",
        "\n",
        "  Outputs:\n",
        "            Removes unnecessary files.\n",
        "  Returns:\n",
        "            None.\n",
        "\n",
        "  Uses the Linux 'find' command to locate and remove unnecessary files from within a CORS station directory.  \n",
        "  \"\"\"\n",
        "  Year = date.split('/')[0][2:4]\n",
        "  sp.check_output(f'cd {rdir}; find -name *.md5 -delete; find -name *.{Year}d -delete; find -name *.md5* -delete; find -name *.{Year}S* -delete;', shell=True) \n",
        "\n"
      ],
      "execution_count": null,
      "outputs": []
    },
    {
      "cell_type": "code",
      "metadata": {
        "id": "2RxN0uC4jY2G",
        "colab_type": "code",
        "cellView": "form",
        "colab": {}
      },
      "source": [
        "#@title def CORS_trim_to_time(f, start, stop) {form-width: \"35%\"}\n",
        "# Url for data: ftp://geodesy.noaa.gov/cors/coord/coord_14/\n",
        "def CORS_trim_to_time(f, start, stop):\n",
        "  \"\"\"\n",
        "  CORS_trim_to_time(f, start, stop)\n",
        "\n",
        "  Inputs:\n",
        "  f       RINEX File to trim.\n",
        "  start   UTC Start time string. Ex '12:00:05'\n",
        "  stop    UTC Stop  time string. Ex '12:00:05'\n",
        "\n",
        "  Outputs:\n",
        "  Overwrites the input file with the new trimmed version.\n",
        "\n",
        "  Returns:\n",
        "    None.\n",
        "\n",
        "Trims a RINEX file (f) to be between the 'start' and 'stop' times given.\n",
        "  \"\"\"\n",
        "  st = re.sub('[\\:\\-\\.]', '', start)\n",
        "  end = re.sub('[\\:\\-\\.]', '', stop)\n",
        "  print(f'f: {f}   start: {start}  stop: {stop}')\n",
        "  sp.run(f'teqc +out tmp.txt -st {start} -e {stop} {f}', shell=True)\n",
        "  sp.run(f'mv tmp.txt {f}', shell=True)\n",
        "\n"
      ],
      "execution_count": null,
      "outputs": []
    },
    {
      "cell_type": "code",
      "metadata": {
        "id": "XqOUhmNDhIyK",
        "colab_type": "code",
        "colab": {}
      },
      "source": [
        ""
      ],
      "execution_count": null,
      "outputs": []
    },
    {
      "cell_type": "markdown",
      "metadata": {
        "id": "4CjcbpaY1HJi",
        "colab_type": "text"
      },
      "source": [
        "# Testing & Example code."
      ]
    },
    {
      "cell_type": "code",
      "metadata": {
        "id": "O4kOZ2VWBV6M",
        "colab_type": "code",
        "cellView": "form",
        "colab": {}
      },
      "source": [
        "#@title  (Jupyter Widgets) CORS_jw() {form-width: \"25%\"}\n",
        "import numpy as np\n",
        "import datetime\n",
        "\n",
        "\n",
        "\n",
        "def CORS_jw():\n",
        "  \"\"\"\n",
        "  CORS_jw() Uses Juypter Widget based GUI to download and save CORS RINEX data from NOAA. \n",
        "\n",
        "  CORS Site:  https://geodesy.noaa.gov/CORS/\n",
        "  Juypter Widgets: https://ipywidgets.readthedocs.io/en/latest/index.html\n",
        "  \"\"\"\n",
        "  #@title def GET_sp3(b) {form-width: \"25%\"}\n",
        "  # Reponse to SP3 button push\n",
        "  def GET_sp3(b):\n",
        "    print(f'GET_sp3 b={b}')\n",
        "    global CORS_Date\n",
        "    stations = sta_list.value\n",
        "    CORS_Date =  date_w.value\n",
        "    CORS_Date_str = CORS_Date.strftime(\"%Y/%m/%d\")\n",
        "    rv = get_CORS_SP3_Nav( proj_dir.value,  CORS_Date_str )\n",
        "\n",
        "  #@title def GET_CORS(b)  {form-width: \"25%\"}\n",
        "  # Respone to Download RINEX button\n",
        "  def GET_CORS(b):\n",
        "    global CORS_Date\n",
        "    stations = sta_list.value\n",
        "    CORS_Date =  date_w.value\n",
        "    CORS_Date_str = CORS_Date.strftime(\"%Y/%m/%d\")\n",
        "    Start_time_str = Start_time.value\n",
        "    End_time_str = End_time.value\n",
        "    with output:\n",
        "      if isTimeFormat(Start_time_str) == False:\n",
        "        print(f'{Start_time_str} is not a valid start time. The correct format is: \"HH:MM:SS\" ')\n",
        "        return\n",
        "      if isTimeFormat(End_time_str) == False:\n",
        "        print(f'{End_time_str} is not a valid end time.  The correct format is: \"HH:MM:SS\"')\n",
        "        return\n",
        "      print(f'stations: {stations}')\n",
        "      print(f'Project_dir:{proj_dir.value}')\n",
        "      print(f'Date: {CORS_Date} {type(CORS_Date)}  {CORS_Date_str}')\n",
        "      print(f'Start Time:{Start_time_str}')\n",
        "      print(f'End Time:{End_time_str}')\n",
        "      CORS_get_all_station_data(proj_dir.value, stations,  CORS_Date_str, Start_time_str, End_time_str)\n",
        "\n",
        "  try:\n",
        "    CORS_Date\n",
        "  except:\n",
        "    CORS_Date = datetime.datetime.now()\n",
        "\n",
        "  try:\n",
        "    Start_time_str\n",
        "  except:\n",
        "    Start_time_str = '00:00:00'\n",
        "\n",
        "  try:\n",
        "    End_time_str\n",
        "  except:\n",
        "    End_time_str = '23:59:59'\n",
        "  # Generate Jupyter Widgets entry widgets \n",
        "  proj_dir_lbl = ipw.Label( value=\"Project Path:\")\n",
        "  proj_dir = ipw.Text(value='/content/', layout=ipw.Layout(width='590px'))\n",
        "  proj_dir_w = ipw.HBox( [proj_dir_lbl, proj_dir] )\n",
        "\n",
        "  # same for Station list\n",
        "  sta_lbl = ipw.Label(value=\"CORS Stations:\")\n",
        "  sta_list = ipw.Text(value='ncdu ncbe', disabled=False, layout=ipw.Layout(width='580px'))\n",
        "  pd = ipw.HBox( [sta_lbl, sta_list  ])\n",
        "\n",
        "  # generate a date picker widget and preload with CORS_Date if it exists\n",
        "  date_w = ipw.DatePicker( description='Date:', disabled=False, value=CORS_Date, layout=ipw.Layout(width='250px') )\n",
        "\n",
        "  # Generate Start and Stop time GUI entries\n",
        "  Start_lbl  = ipw.Label( value=\"UTC Time Start:\", layout=ipw.Layout(width='100px'))\n",
        "  Start_time = ipw.Text(value=Start_time_str, layout=ipw.Layout(width='100px'))\n",
        "  End_lbl    = ipw.Label( value=\"UTC End Time:\", layout=ipw.Layout(width='100px'))\n",
        "  End_time   = ipw.Text(value=End_time_str, layout=ipw.Layout(width='100px'))\n",
        "  b = ipw.HBox([date_w, Start_lbl, Start_time, End_lbl, End_time])\n",
        "\n",
        "  # Buttons\n",
        "  sp3_b = ipw.Button(description = \"Download SP3 Data\", layout=ipw.Layout(width='180px') )\n",
        "  sp3_b.style.button_color = 'lightgreen'\n",
        "\n",
        "  go = ipw.Button(description = \"Download CORS RINEX Data\", layout=ipw.Layout(width='200px') )\n",
        "  go.style.button_color = 'lightblue'\n",
        "  buttons_w = ipw.Box([sp3_b, go])\n",
        "  output = ipw.Output()\n",
        "  go.on_click(GET_CORS)\n",
        "  sp3_b.on_click(GET_sp3)\n",
        "  display( ipw.HTML(value=\"<h1>Download CORS Data.</h1>\"), pd, b, proj_dir_w, buttons_w, output)\n",
        "\n",
        "\n",
        "if __name__ == '__main__':\n",
        "  CORS_jw();\n",
        "\n"
      ],
      "execution_count": null,
      "outputs": []
    },
    {
      "cell_type": "code",
      "metadata": {
        "id": "so281kZxetyh",
        "colab_type": "code",
        "colab": {}
      },
      "source": [
        "if __name__ == '__main__':\n",
        "  ! head -50 /content/CORS/ncdu/ncdu1540.20o"
      ],
      "execution_count": null,
      "outputs": []
    },
    {
      "cell_type": "code",
      "metadata": {
        "id": "qctuiGmcBDb2",
        "colab_type": "code",
        "cellView": "form",
        "colab": {}
      },
      "source": [
        "#@title  Test CORS_get_all_station_data(Project_Root_Folder, CORS_to_Fetch, date, UTC_Start_Time, UTC_End_Time) {form-width: \"35%\"}\n",
        "if __name__ == '__main__':\n",
        "  CORS_to_Fetch = \"ls03,    ncdu ncbi\"\n",
        "  CORS_get_all_station_data('/content/2020-0524', CORS_to_Fetch,  '2020/05/24', '12:00:00', '13:31:01')\n"
      ],
      "execution_count": null,
      "outputs": []
    },
    {
      "cell_type": "code",
      "metadata": {
        "id": "obpCWv8b0wr6",
        "colab_type": "code",
        "cellView": "form",
        "colab": {}
      },
      "source": [
        "#@title Test (Colabs) CORS_get_station_datasheet() {form-width: \"35%\"}\n",
        "if __name__ == '__main__':\n",
        "  Project_Root_Folder = \"/content/2020-0524\" #@param {type:\"string\"}\n",
        "  CORS_Station = \"NCDU\" #@param {type:\"string\"}\n",
        "  CORS_Station = str.lower(CORS_Station)\n",
        "  d = f'{Project_Root_Folder}/CORS/{CORS_Station}/'\n",
        "  rv = CORS_get_station_datasheet(d, CORS_Station)"
      ],
      "execution_count": null,
      "outputs": []
    },
    {
      "cell_type": "code",
      "metadata": {
        "id": "E3PVu3Aj02mf",
        "colab_type": "code",
        "cellView": "form",
        "colab": {}
      },
      "source": [
        "#@title Test CORS_get_station_coords() {form-width: \"35%\"}\n",
        "if __name__ == '__main__':\n",
        "  Project_Root_Folder = \"/content/2020-0524\" #@param {type:\"string\"}\n",
        "  CORS_Station = \"NCDU\" #@param {type:\"string\"}\n",
        "  CORS_Station = str.lower(CORS_Station)\n",
        "  d = f'{Project_Root_Folder}/CORS/{CORS_Station}/'\n",
        "  CORS_get_station_coords('/content/2020-0524/CORS/ncdu', 'NCDU')"
      ],
      "execution_count": null,
      "outputs": []
    },
    {
      "cell_type": "code",
      "metadata": {
        "id": "bVzXxmZQFWCM",
        "colab_type": "code",
        "cellView": "form",
        "colab": {}
      },
      "source": [
        "#@title Test Google Colabs test code below getting all requested data for a site. {form-width: \"35%\"}\n",
        "\n",
        "\n",
        "if __name__ == '__main__':\n",
        "  teqc_install()\n",
        "  Project_Root_Folder = \"/content/2020-0524\" #@param {type:\"string\"}\n",
        "  #@markdown Enter a list of CORS Stations to download below. Separate with \",\" or space character.\n",
        "  CORS_to_Fetch = \"ls03,    ncdu ncbi ncbx ncci ncbe ncso\" #@param {type:\"string\"}\n",
        "  Date_to_Fetch = \"2020-05-24\" #@param {type:\"date\"}\n",
        "  UTC_Start_Time = \"16:32:20\" #@param {type:\"string\"}\n",
        "  UTC_End_Time   = \"18:50:31\" #@param {type:\"string\"}\n",
        "\n",
        "  print(f'Fetching CORS Data for: {Date_to_Fetch}')\n",
        "  Date = Date_to_Fetch.replace('-', '/')\n",
        "  CORS_to_Fetch = CORS_to_Fetch.lower()\n",
        "  CORS_to_Fetch = CORS_to_Fetch.replace(',', ' ')\n",
        "  lst = CORS_to_Fetch.replace(',', ' ').split()\n",
        "  get_CORS_SP3_Nav(Project_Root_Folder, Date )\n",
        "  for sta in lst:\n",
        "    rv = get_CORS_OBS_Data(Project_Root_Folder, Date, sta, UTC_Start_Time, UTC_End_Time )\n",
        "    CORS_get_station_coords(Project_Root_Folder+'/'+'CORS/'+sta+'/', sta)\n",
        "    CORS_get_station_datasheet(Project_Root_Folder+'/'+'CORS/'+sta+'/', sta)\n",
        "  clean_up_CORS(Project_Root_Folder, Date)\n",
        "  print('All requested CORS data downloaded.  Operation completed.')\n",
        "\n",
        "#--------------------------------------------------------\n",
        "\n"
      ],
      "execution_count": null,
      "outputs": []
    },
    {
      "cell_type": "code",
      "metadata": {
        "id": "TzxGOosp0fI_",
        "colab_type": "code",
        "cellView": "form",
        "colab": {}
      },
      "source": [
        "#@title Test Google Colabs test getting sp3 files.\n",
        "if __name__ == '__main__':\n",
        "  teqc_install()\n",
        "  Project_Root_Folder = \"/content/2020-0524\" #@param {type:\"string\"}\n",
        "  Date_to_Fetch = \"2020/05/24\" #@param {type:\"date\"}\n",
        "  rv = get_CORS_SP3_Nav(Project_Root_Folder, Date_to_Fetch )\n"
      ],
      "execution_count": null,
      "outputs": []
    },
    {
      "cell_type": "code",
      "metadata": {
        "id": "-uVXXiFOStE5",
        "colab_type": "code",
        "cellView": "form",
        "colab": {}
      },
      "source": [
        "#@title Display the first 40 lines of a file.\n",
        "if __name__ == '__main__':\n",
        "  File = \"/content/2020-0524/CORS/ncdu/ncdu1450.20o\" #@param {type:\"string\"}\n",
        "  !head -40 {File}"
      ],
      "execution_count": null,
      "outputs": []
    },
    {
      "cell_type": "markdown",
      "metadata": {
        "id": "mWi9RqkrAjak",
        "colab_type": "text"
      },
      "source": [
        "# References, Todo, Change Log & Bug Fixes"
      ]
    },
    {
      "cell_type": "markdown",
      "metadata": {
        "id": "M2ZxIVajxKFX",
        "colab_type": "text"
      },
      "source": [
        "## References\n",
        "* [multiprocessing Basics](https://pymotw.com/2/multiprocessing/basics.html)\n",
        "* [CORS Home](https://geodesy.noaa.gov/CORS/)\n",
        "* [IGS (RINEX) File formats](https://kb.igs.org/hc/en-us/articles/201096516-IGS-Formats)\n",
        "* [User Friendly CORS](https://www.ngs.noaa.gov/UFCORS/)\n",
        "* [CORS Map](https://geodesy.noaa.gov/CORS_Map/)\n",
        "* [Sortable list of CORS Stations](https://geodesy.noaa.gov/CORS/sort_sites.shtml)\n",
        "* [ANTEX Antenna file ngs14.atx](https://www.ngs.noaa.gov/ANTCAL/LoadFile?file=ngs14.atx)\n",
        "* [Juypter Widgets](https://ipywidgets.readthedocs.io/en/latest/index.html)\n",
        "* [Python subprocess](https://docs.python.org/3/library/subprocess.html)"
      ]
    },
    {
      "cell_type": "markdown",
      "metadata": {
        "id": "n4fSGmU7J_to",
        "colab_type": "text"
      },
      "source": [
        "## Todo list\n",
        "* Add code to gather and merge \"same day\" data. [(see teqc merge post here)](https://postal.unavco.org/pipermail/teqc/2014/001827.html)\n",
        "* Switch to [Juypter Widgets](https://ipywidgets.readthedocs.io/en/latest/index.html)\n",
        "* Add [multiprocessing](https://pymotw.com/2/multiprocessing/basics.html) to gather all the stations in parallel."
      ]
    },
    {
      "cell_type": "markdown",
      "metadata": {
        "id": "6HZaa46iBDUE",
        "colab_type": "text"
      },
      "source": [
        "## Change Log & Bug Fixes\n",
        "* 2020-0622\n",
        "  * Added input validity checking to time input strings.\n",
        "  * Initial commit."
      ]
    }
  ]
}