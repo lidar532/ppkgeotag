{
  "nbformat": 4,
  "nbformat_minor": 0,
  "metadata": {
    "colab": {
      "name": "ppk-geotag.ipynb",
      "version": "0.3.2",
      "provenance": [],
      "private_outputs": true,
      "collapsed_sections": [
        "GTYbXPCYoVGP",
        "J5XYrJxeZzec"
      ],
      "include_colab_link": true
    },
    "kernelspec": {
      "name": "python3",
      "display_name": "Python 3"
    }
  },
  "cells": [
    {
      "cell_type": "markdown",
      "metadata": {
        "id": "view-in-github",
        "colab_type": "text"
      },
      "source": [
        "<a href=\"https://colab.research.google.com/github/lidar532/ppkgeotag/blob/master/ppk_geotag.ipynb\" target=\"_parent\"><img src=\"https://colab.research.google.com/assets/colab-badge.svg\" alt=\"Open In Colab\"/></a>"
      ]
    },
    {
      "metadata": {
        "id": "GTYbXPCYoVGP",
        "colab_type": "text"
      },
      "cell_type": "markdown",
      "source": [
        "# Step 1:  First, upload your key file and then press the Run Arrow to the left to load the PPKGeoTag Code."
      ]
    },
    {
      "metadata": {
        "id": "KAUu1IhXPB5E",
        "colab_type": "code",
        "colab": {}
      },
      "cell_type": "code",
      "source": [
        "#@title Load the Code and Sample Data   {display-mode: \"form\"}\n",
        "%%shell\n",
        "\n",
        "## Upload your ppkuser.privatekey before executing this.\n",
        "cd /content\n",
        "if [[ -e ppkuser.private ]]; then\n",
        "  mkdir -p /root/.ssh                                        #\n",
        "  cp ppkuser.private /root/.ssh/id_rsa                       #\n",
        "  chmod 600 /root/.ssh/id_rsa                                #\n",
        "  ssh-keyscan github.com > /root/.ssh/known_hosts            #\n",
        "  echo \"Downloading the latest ppk module..\"\n",
        "  cd /content                                                #\n",
        "  rm -rf * .git                                              #\n",
        "  git clone git@github.com:lidar532/cwwppkgeotaglib.git      #\n",
        "  cp cwwppkgeotaglib/cwwppkgeotaglib.py /content             #\n",
        "  pip install pyproj                                         #\n",
        "  echo \"Dowwnloading Example PPK Datasets...\"\n",
        "  cd /content\n",
        "  \n",
        "  if [[ -e PPK_Sample_data ]]; then\n",
        "    mkdir -p trash\n",
        "    mv PPK_Sample_data trash                                 #\n",
        "    cd trash                                                 #\n",
        "    rm -rf *\n",
        "   fi\n",
        "   \n",
        "  cd /content                                                #\n",
        "  git clone https://github.com/lidar532/PPK_Sample_data.git  #\n",
        "  echo \"All done, Ready to go.\"\n",
        "else\n",
        "  echo \"No user key file found.  Please upload your ppkuser.private Key File, and try again.\"\n",
        "fi"
      ],
      "execution_count": 0,
      "outputs": []
    },
    {
      "metadata": {
        "id": "J5XYrJxeZzec",
        "colab_type": "text"
      },
      "cell_type": "markdown",
      "source": [
        "# Step 2:  Process PPK Data from the CWWPPK-v2 System"
      ]
    },
    {
      "metadata": {
        "id": "gWuDgx8HBqG6",
        "colab_type": "code",
        "colab": {}
      },
      "cell_type": "code",
      "source": [
        "#@title Step 2: Select data files and options, and generate PPK based GeoTags for your photos. {display-mode: \"form\"}\n",
        "\n",
        "#@markdown #Input Data Files\n",
        "Exif_File_Name = \"content/PPK_Sample_data/2019-0311-Fla-LarrySandersPark/2019-0311-exif.csv\" #@param {type:\"string\"}\n",
        "Trajectory_file_Name = \"content/PPK_Sample_data/2019-0311-Fla-LarrySandersPark/GP184856-NG15PK-FLD7.pos\" #@param {type:\"string\"}\n",
        "Flash_Events_file_Name = \"content/PPK_Sample_data/2019-0311-Fla-LarrySandersPark/GP184856.TXT\" #@param {type:\"string\"}\n",
        "\n",
        "#@markdown ---\n",
        "#@markdown #Output File\n",
        "Base_station_ID = \"FLD7\" #@param {type:\"string\"}\n",
        "User_Notes = \"3DR Solo, Larry Sanders Sports Park, Tampa, Fla.  \" #@param {type:\"string\"}\n",
        "Generate_Output_File = \"No\" #@param [\"No\", \"Yes\"]\n",
        "\n",
        "#@markdown ---\n",
        "#@markdown #Stats, Graphs & Plots\n",
        "Plot_Times = True #@param {type:\"boolean\" }\n",
        "Show_File_Stats = False #@param {type:\"boolean\" }\n",
        "Show_Flash_event_Distribution = False #@param {type:\"boolean\" }\n",
        "Show_XYZ_Std_Devs = False #@param {type:\"boolean\"} \n",
        "Show_Photo_Location_Plan_View = False #@param {type:\"boolean\"}\n",
        "Show_Photo_Elevations = False #@param { type: \"boolean\" }\n",
        "\n",
        "#@markdown ---\n",
        "#@markdown #Camera EXIF Time Adjustments\n",
        "EXIF_drift_correction_seconds = -37 #@param {type:\"integer\" }\n",
        "EXIF_Offset_from_UTC_Hours = 4 #@param {type:\"integer\"}\n",
        "\n",
        "#@markdown ---\n",
        "Debugging_Output = \"None\" #@param [\"None\", \"Function EntryExit\", \"\"]\n",
        "#@markdown ---\n",
        "\n",
        "import cwwppkgeotaglib as ppk\n",
        "print('\\nCWW PPK Geotag Library version: ', ppk.ppk['ppk_flash_sync_version'])\n",
        "print(\"Ready to go..\")\n",
        "\n",
        "ppk.ppk_user_settings['Exif_File_Name']                   = '/' +  Exif_File_Name\n",
        "ppk.ppk_user_settings['Flash_Events_file_Name']           = '/' + Flash_Events_file_Name\n",
        "ppk.ppk_user_settings['Trajectory_file_Name']             = '/' + Trajectory_file_Name\n",
        "ppk.ppk_user_settings['EXIF_drift_correction_seconds']    = EXIF_drift_correction_seconds\n",
        "ppk.ppk_user_settings['EXIF_Offset_from_UTC_Hours']       = EXIF_Offset_from_UTC_Hours\n",
        "ppk.ppk_user_settings['Generate_Output_File']             = Generate_Output_File\n",
        "ppk.ppk_user_settings['Base_station_ID']                  = Base_station_ID\n",
        "ppk.ppk_user_settings['User_Notes']                       = User_Notes\n",
        "ppk.ppk_user_settings['Generate_Output_File']             = Generate_Output_File\n",
        "ppk.ppk_user_settings['Plot_Times']                       = Plot_Times\n",
        "ppk.ppk_user_settings['Show_File_Stats']                  = Show_File_Stats\n",
        "ppk.ppk_user_settings['Show_Flash_event_Distribution']    = Show_Flash_event_Distribution\n",
        "ppk.ppk_user_settings['Show_XYZ_Std_Devs']                = Show_XYZ_Std_Devs\n",
        "ppk.ppk_user_settings['Show_Photo_Location_Plan_View']    = Show_Photo_Location_Plan_View\n",
        "ppk.ppk_user_settings['Show_Photo_Elevations']            = Show_Photo_Elevations\n",
        "ppk.ppk_user_settings['Debugging_Output']                 = Debugging_Output\n",
        "\n",
        "\n",
        "\n",
        "ppk.process_cww_ppk_files()"
      ],
      "execution_count": 0,
      "outputs": []
    }
  ]
}