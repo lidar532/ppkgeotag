{
  "nbformat": 4,
  "nbformat_minor": 0,
  "metadata": {
    "colab": {
      "name": "mp-genjpg.ipynb",
      "provenance": [],
      "private_outputs": true,
      "collapsed_sections": [],
      "toc_visible": true,
      "authorship_tag": "ABX9TyOW1mUd8k6HqHbvBB9yvI4f",
      "include_colab_link": true
    },
    "kernelspec": {
      "name": "python3",
      "display_name": "Python 3"
    }
  },
  "cells": [
    {
      "cell_type": "markdown",
      "metadata": {
        "id": "view-in-github",
        "colab_type": "text"
      },
      "source": [
        "<a href=\"https://colab.research.google.com/github/lidar532/ppkgeotag/blob/master/mp_genjpg.ipynb\" target=\"_parent\"><img src=\"https://colab.research.google.com/assets/colab-badge.svg\" alt=\"Open In Colab\"/></a>"
      ]
    },
    {
      "cell_type": "code",
      "metadata": {
        "id": "vwtHcYHEM4wY",
        "colab_type": "code",
        "colab": {}
      },
      "source": [
        "import numpy as np\n",
        "import os\n",
        "\n",
        "bash_script_fn = 'generate-jpgs.txt'\n",
        "jpg_quality = 50\n",
        "idir = '/usr/bin/'\n",
        "odir = '/tmp/'\n",
        "#idir = 'j:/data/2020-0208-NC-outer-banks/dng'\n",
        "#odir = '/mnt/j/data/2020-0208-NC-outer-banks/field-jpg'\n",
        "\n",
        "threads = os.cpu_count()\t\t\t\t# Determine the number of CPU cores \n",
        "allfiles = os.listdir(idir)\t\t\t# gather list of input photo files\n",
        "\n",
        "tc = len(allfiles)\n",
        "step = int(tc/threads)\n",
        "blocksz = step*threads\n",
        "\n",
        "hs = f'\\\n",
        "# Generate jpgs with multiple gm.  W. Wright 2020-0217\\n\\\n",
        "#########################################################################\\n\\\n",
        "#         bash Script: {bash_script_fn}\\n\\\n",
        "#           Input dir: {idir}\\n\\\n",
        "#          Output dir: {odir}\\n\\\n",
        "# CPU Cores (threads):{threads:2d}  Jpeg Quality:{jpg_quality:2d}   Blocksize:{blocksz:3d}\\n\\\n",
        "#    Total File Count:{tc:4d}        Step: {step:4d} \\n\\\n",
        "#########################################################################\\n\\\n",
        "# \\n'\n",
        "\n",
        "print(hs)\t\t\t\t\t\t# Display settings on the console\n",
        "\n",
        "# Generate a Linux Bash script file containing the commands\n",
        "# to execute graphicsmagick commands to convert an input file list\n",
        "# into a new directory of converted images.\n",
        "bash_script = open( bash_script_fn, 'w')\n",
        "bash_script.write(hs)\n",
        "bash_script.write(f'cd {idir}\\n')\n",
        "\n",
        "starts = np.arange(0, tc, step)\n",
        "stops  = (starts -1)[1:]\n",
        "blocks = []\n",
        "\n",
        "print(starts,\"\\n\", stops, len(starts), \" \", len(stops))\n",
        "for i in range( len(stops)):\n",
        "\t\tprint(f'{i}   {starts[i]}  {stops[i]}   {stops[i] - starts[i]}')    # \n",
        "\t\tbk = allfiles[starts[i]:stops[i]]                                   # Extract slice \n",
        "\t\tblocks.append(bk)\n",
        "### print(f'Last   {starts[-1]}  {tc}  {tc - starts[-1]}')\n",
        "blocks.append(allfiles[starts[-1]:tc])\n",
        "\n",
        "# Each block contains a list of files to pass to a thread for processing\n",
        "core_number = 0\n",
        "for i in blocks:\n",
        "\tfn = str(f'f-{core_number}.txt')\n",
        "\tbash_script.write(str(f'cat {fn} | xargs gm mogrify -create-directories -output-directory {odir} -format jpeg -quality {jpg_quality} - &\\n'))\n",
        "\twith open(fn, 'w') as f:\n",
        "\t\tfor n in i:\n",
        "\t\t\tf.write(str(f'{n} '))\n",
        "\tprint(f'File: {fn} generated.')\n",
        "\tprint(i[0:4])\n",
        "\tcore_number = core_number + 1\n",
        "\n",
        "bash_script.write('echo \\'Conversion scripts started\\'\\n')\n",
        "bash_script.close()\n",
        "  \n",
        "  "
      ],
      "execution_count": 0,
      "outputs": []
    }
  ]
}