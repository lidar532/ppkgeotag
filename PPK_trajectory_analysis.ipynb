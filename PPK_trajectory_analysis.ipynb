{
  "nbformat": 4,
  "nbformat_minor": 0,
  "metadata": {
    "colab": {
      "name": "PPK_trajectory analysis.ipynb",
      "provenance": [],
      "private_outputs": true,
      "collapsed_sections": [
        "fck-GF0mpeMy",
        "rNJwsJCdaVHh",
        "MXj8VAoY3wPS",
        "vJ3ZayL278YR",
        "d7B0h8Ns_JJm",
        "vVsDaEeHhu5Z",
        "ILQYtSTs74Fj",
        "DK4IN3rc92Wm",
        "0afjevcn-EGi",
        "c-BtejKnsMBD",
        "ndZQVhOD1MPw"
      ],
      "toc_visible": true,
      "include_colab_link": true
    },
    "kernelspec": {
      "name": "python3",
      "display_name": "Python 3"
    }
  },
  "cells": [
    {
      "cell_type": "markdown",
      "metadata": {
        "id": "view-in-github",
        "colab_type": "text"
      },
      "source": [
        "<a href=\"https://colab.research.google.com/github/lidar532/ppkgeotag/blob/master/PPK_trajectory_analysis.ipynb\" target=\"_parent\"><img src=\"https://colab.research.google.com/assets/colab-badge.svg\" alt=\"Open In Colab\"/></a>"
      ]
    },
    {
      "cell_type": "markdown",
      "metadata": {
        "id": "n4xzYAlvISyQ",
        "colab_type": "text"
      },
      "source": [
        "PPK / PPP / RTX GNSS Trajectory Analysis ToolBox\n",
        "===\n",
        "\n",
        "C. W. Wright wright(AT)lidar.net\n",
        "\n",
        "For use with the [CWW-PPK](http://lidar.net) Precision GNSS system designed for UAS & Manned Structure from Motion data collection.  Precision GNSS trajectory analysis tool.  Examine and compare PPK & PPP GNSS trajectories.\n"
      ]
    },
    {
      "cell_type": "markdown",
      "metadata": {
        "colab_type": "text",
        "id": "fck-GF0mpeMy"
      },
      "source": [
        "Revision History and TODO List\n",
        "==="
      ]
    },
    {
      "cell_type": "markdown",
      "metadata": {
        "id": "AX3RrdMVkIbi",
        "colab_type": "text"
      },
      "source": [
        "## Revisions\n",
        "* 2019-1109\n",
        "  * Added cell to delete a selected trajectory from memory.\n",
        "* 2019-1108\n",
        "  * Constructed unified statistics display functions\n",
        "  * fixed various bugs \n",
        "  * Added auto-hide for graph menu\n",
        "  * Added user z_bias so user can offset trajectory elevation if so desired\n",
        "  * Added additional user input data to help describe each trajectory\n",
        "*   2019-1106\n",
        "  * Added stats printout def for read in trajectories\n",
        "  * Added file names of displayed trjs to printout above each graph.\n",
        "  * Added User input title to each graph\n",
        "  * Cleaned up dif plotter\n",
        "  * Added ability to difference several trj from a reference\n",
        "  * Preset graph mouse functions for each graphic\n",
        "  * Improved Trap errors when wrong file loaded, or missing columns\n",
        "  * Added code to instruct the user to run the initilization cell before using each tool.\n",
        "*   2019-1005\n",
        "  * Consolidated the graphic style stuff in a Defs\n",
        "  * Fixed length difference warnings from some graphs\n",
        "  * Trapped error when 'ns' column missing from a trajectory in the stats plot\n",
        "  * Added undo * redo buttons to plots\n",
        "* 2019-1003\n",
        "---\n",
        "\n",
        "## To Do List\n",
        "1. Translate trajectories to an export trajectory file that the PPK EO tool can read and process.\n",
        "1. Add histogram for differenced trajectories\n",
        "1. Add tools to display, select, and delete trajectories \n",
        "1. Add numerical statistics to various plots to quantify differences\n",
        "\n",
        "\n",
        "\n",
        "## Wish List\n",
        "* Add automatic extraction, and creation of GCPs, of UAS takeoff and landing sites.\n",
        "* Add reader for CWW-PPK_Geotag output file.\n",
        "* Add reader for John Sontags trajectory files\n",
        "* Add reader for NASA GIPSE trajectory files\n",
        "* Add RTKlib compatible output option so we can drive the CWW-PPK processing software\n",
        "* Add reader and plotting ability for OPUS result files.\n",
        "* Add generic xy plotter reader, plotter, difference, etc.  For Global Mapper transect plots.\n",
        "* Add linux tools to convert raw data to RINEX\n",
        "* Add ability to GrafNav reader to find the header row, and use it for column labels\n",
        "* Add background map to the plan view\n",
        "* Add a switch for UTM on the plan view\n",
        "* Add stats to histogram plot\n",
        "* Add reader for Flash shoe time stamps\n",
        "* Add plotter for Flash shoe timing display with zoom\n",
        "* Add reader & plotter for EXIF files.\n",
        "* Integrate [Juypter ipywidgets](https://ipywidgets.readthedocs.io/en/latest/index.html)\n",
        "\n",
        "## References\n",
        "* [Markdown in Colabs](https://colab.research.google.com/notebooks/markdown_guide.ipynb#scrollTo=70pYkR9LiOV0)\n",
        "* [ Bokeh interactive visualization library]( https://docs.bokeh.org/en/latest/index.html)\n",
        "* [Bokeh Interactions, widgets](https://docs.bokeh.org/en/latest/docs/user_guide/interaction.html)\n",
        "* [Colabs grid widgets](https://colab.research.google.com/notebooks/widgets.ipynb#scrollTo=P6xc9QVFSlrw)\n",
        "* [os.path for filename manipulation](https://docs.python.org/3/library/os.path.html)\n",
        "* [Juypter Widget list and examples](https://ipywidgets.readthedocs.io/en/latest/examples/Widget%20List.html)\n",
        "* [O'Reilly Python Data Science Handbook](https://jakevdp.github.io/PythonDataScienceHandbook/)\n",
        "\n",
        "\n",
        "\n",
        "\n",
        "\n",
        "\n",
        "---\n",
        "\n",
        "\n"
      ]
    },
    {
      "cell_type": "code",
      "metadata": {
        "colab_type": "code",
        "id": "CmW1DsqGoiGH",
        "colab": {}
      },
      "source": [
        "#@title Run RTKlib process for Single\n",
        "\n",
        "!rm -rf /content/junk-P10GN-single.txt\n",
        "!/usr/bin/rnx2rtkp  -k /content/rtklib-linux.conf -t -u -d 6 -c -p 0 -m 10 \\\n",
        "-f 2 -h -o junk-P10GN-single.txt /content/GP212112.obs  /content/ctmc2060.19o  \\\n",
        " /content/ctmc2060.19n /content/ctmc2060.19g /content/igs20634.sp3\n",
        "!head -50 /content/junk-P10GN-single.txt"
      ],
      "execution_count": 0,
      "outputs": []
    },
    {
      "cell_type": "code",
      "metadata": {
        "colab_type": "code",
        "id": "5tcqhQQJlQTF",
        "colab": {}
      },
      "source": [
        "#@title Run RTKlib process for Single\n",
        "\n",
        "!rm -rf /content/junk-P10GN-single.txt\n",
        "!/usr/bin/rnx2rtkp  -k /content/rtklib-linux.conf -t -u -d 6 -c -p 0 -m 10 \\\n",
        "-f 2 -h -o junk-P10GN-single.txt /content/GP212112.obs  /content/ctmc2060.19o  \\\n",
        " /content/ctmc2060.19n /content/ctmc2060.19g /content/igs20634.sp3\n",
        "!head -25 /content/junk-P10GN-single.txt"
      ],
      "execution_count": 0,
      "outputs": []
    },
    {
      "cell_type": "markdown",
      "metadata": {
        "colab_type": "text",
        "id": "02BlQnm9UmjU"
      },
      "source": [
        "<<<-- Click the arrow to the left to Open the Tool Cells.  \n",
        "==="
      ]
    },
    {
      "cell_type": "code",
      "metadata": {
        "id": "BxFVaPuIJRgM",
        "colab_type": "code",
        "cellView": "form",
        "colab": {}
      },
      "source": [
        "#@title **Initialize Tool Box:** Run this Cell first to initilize the system.  Function defs are located inside this cell.  Double-click here to see the functions.\n",
        "\n",
        "import pandas as pd\n",
        "import os\n",
        "import pathlib\n",
        "import numpy as np\n",
        "from bokeh.plotting import figure, show, output_file\n",
        "from bokeh.layouts import gridplot\n",
        "from bokeh.io import output_notebook\n",
        "import ipywidgets as widgets\n",
        "from IPython.display import display\n",
        "from google.colab import widgets\n",
        "\n",
        "\n",
        "\n",
        "def init_analysis():\n",
        "  global settings,  trajectories, Trj, binSize_In_cm, binsz,c, Trj_fn\n",
        "  global Trj1, Trj2, Trj3, Trj4, Trj5, Trj6, Trj7\n",
        "\n",
        "  try:\n",
        "    settings\n",
        "    trajectories\n",
        "  except NameError:\n",
        "    trajectories = {}\n",
        "    for i in range(1,8):\n",
        "      trajectories[i] = {}\n",
        "    settings = {}\n",
        "    settings['binsz']       = 0.025\n",
        "    settings['plot_width']  = 400\n",
        "    settings['plot_height'] = 400\n",
        "\n",
        "    binSize_In_cm = 2.5\n",
        "    binsz = binSize_In_cm / 100.0\n",
        "    settings['binsz'] = binsz\n",
        "    Trj = {}\n",
        "    Trj1 = False\n",
        "    Trj2 = False\n",
        "    Trj3 = False\n",
        "    Trj4 = False\n",
        "    Trj5 = False\n",
        "    Trj6 = False\n",
        "    Trj7 = False\n",
        "\n",
        "    Trj[1] = Trj1\n",
        "    Trj[2] = Trj2\n",
        "    Trj[3] = Trj3\n",
        "    Trj[4] = Trj4\n",
        "    Trj[5] = Trj5\n",
        "    Trj[6] = Trj6\n",
        "    Trj[7] = Trj7\n",
        "    c = {1:'red', 2:'green', 3:'blue', 4:'orange', 5:'yellow', 6:'magenta',7:'black'}\n",
        "    print('Default setting loaded.') \n",
        "    Trj_fn = {}\n",
        "    for i in range(1,8):\n",
        "      Trj_fn[i] = \"---\"\n",
        "    \n",
        "\n",
        "# Example:    https://docs.bokeh.org/en/latest/docs/gallery/stocks.html\n",
        "def ppk_plot(t, x, y, z, title, x_title, y_title):\n",
        "  radii = .1  \n",
        "  p1 = figure( title=title )                   #\n",
        "  p1.xaxis.axis_label = x_title\n",
        "  p1.yaxis.axis_label = y_title\n",
        "  p1.circle_cross(x,y, size=1)    # Plot the lat, lon\n",
        "  \n",
        "  p2 = figure()                   # \n",
        "  p2.circle_cross(                          # Plot the elevations vs time\n",
        "      pd.to_datetime(ppk_data['hms_z']),\n",
        "      ppk_data['elev'], \n",
        "      size=1\n",
        "      )\n",
        "\n",
        "  show( \n",
        "      gridplot([[p1,p2]], \n",
        "              plot_width=settings['plot_width'], \n",
        "              plot_height=settings['plot_height']\n",
        "              ) \n",
        "      );\n",
        "\n",
        "TOOLS = 'pan,wheel_zoom,hover,box_zoom,reset,undo, redo'\n",
        "def open_new_plot():\n",
        "  try:\n",
        "    webgl\n",
        "  except:\n",
        "    NameError\n",
        "    WebGL = \"Enabled\"\n",
        "\n",
        "  if WebGL == 'Enabled':\n",
        "    p0 = figure( plot_width = settings['plot_width'], \n",
        "               plot_height= settings['plot_height'],\n",
        "               output_backend = \"webgl\",\n",
        "                     tools=TOOLS\n",
        "              )\n",
        "  else:\n",
        "      p0 = figure( plot_width = settings['plot_width'], \n",
        "               plot_height= settings['plot_height'],\n",
        "                     tools=TOOLS\n",
        "              )\n",
        "  p0.toolbar.autohide                 = True\n",
        "  p0.title.text_font_size             = '18pt'\n",
        "  p0.yaxis.axis_label_text_font_size  = '16pt'\n",
        "  p0.yaxis.major_label_text_font_size = '14pt'\n",
        "  p0.xaxis.major_label_text_font_size = '14pt'\n",
        "  p0.xaxis.axis_label_text_font_size  = '16pt'\n",
        "  return p0\n",
        "\n",
        "def open_time_plot():\n",
        "  p0 = open_new_plot()\n",
        "  p0.yaxis.axis_label                 = \"Elevation (meters)\"\n",
        "  p0.xaxis.axis_label                 = \"Time\"\n",
        "  p0.xaxis.major_label_orientation    = 1.\n",
        "  p0.xaxis.formatter = bkm.DatetimeTickFormatter(hours=['%H:%M:%S'], \n",
        "                                                minutes=['%H-%M-%S'], \n",
        "                                                seconds=['%H_%M_%S']\n",
        "                                                )\n",
        "  return p0\n",
        "\n",
        "\n",
        "def no_ppk_data_loaded():\n",
        "  print('No ppk_data is loaded.')\n",
        "\n",
        "# Display:\n",
        "#  Min Max Nsats\n",
        "def gen_header( g ):\n",
        "  headers = { 1:'Number',    2:'File Name', 3:'Records', 4:'Seconds\\nOffset', 5:'Start Time',\n",
        "              6:'Stop Time', 7:'Duration',  8:'Generating\\nSoftware', 9:'Trajectory\\nType', 10:'User\\nZ Bias'}\n",
        "  for i in range(1,11):\n",
        "    with g.output_to(0,i):\n",
        "      print(headers[i])\n",
        "  return g\n",
        "\n",
        "def gen_record(g, t, n):\n",
        "  r = t[n]\n",
        "  with g.output_to(1,1):\n",
        "    print(n)\n",
        "  with g.output_to(1,2):\n",
        "    print(os.path.split(r['ifn'])[1])\n",
        "  with g.output_to(1,3):\n",
        "    print(r['data']['lat'].count())\n",
        "  with g.output_to(1,4):\n",
        "    print(r['Seconds_Offset'])\n",
        "  with g.output_to(1,5):\n",
        "    print(r['data']['hms_z'].min())\n",
        "  with g.output_to(1,6):\n",
        "    print(r['data']['hms_z'].max())\n",
        "  with g.output_to(1,7):\n",
        "    print(r['data']['hms_z'].max() - r['data']['hms_z'].min())  \n",
        "  with g.output_to(1,8):\n",
        "    print(r['Generating_Software'])\n",
        "  with g.output_to(1,9):\n",
        "    print(r['Trajectory_Type'])\n",
        "  with g.output_to(1,10):\n",
        "    print(r['z_bias'])\n",
        "\n",
        "\n",
        "def display_trj_stats( t, n ):\n",
        "  grid = widgets.Grid(2,11, header_row=True, header_column=True)\n",
        "  gen_header(grid)\n",
        "  gen_record(grid, t, n)\n",
        "\n",
        "def display_all_trj_stats():\n",
        "  grid = widgets.Grid(8,11, header_row=True, header_column=True)\n",
        "  gen_header(grid)\n",
        "  for i in range(1,8):\n",
        "    t = trajectories[i]\n",
        "    if 'ifn' in t:\n",
        "      gen_record(grid, trajectories, i )\n",
        "\n",
        "# Load the function defs now.\n",
        "# Call once to configure Bokeh to display plots inline in the notebook.\n",
        "output_notebook()\n",
        "Google_Maps_Key = \"Replace this with your Google Maps API Key\"\n",
        "init_analysis()\n",
        "print('The Toolbox is ready for use.')\n",
        "\n",
        "#display_all_trj_stats()\n",
        "#display_trj_stats( trajectories, 1)\n"
      ],
      "execution_count": 0,
      "outputs": []
    },
    {
      "cell_type": "markdown",
      "metadata": {
        "id": "cz_1ZtxZI4o8",
        "colab_type": "text"
      },
      "source": [
        "## **Load GNSS Trajectories**\n"
      ]
    },
    {
      "cell_type": "markdown",
      "metadata": {
        "id": "MvlDNL8xawUT",
        "colab_type": "text"
      },
      "source": [
        "### PPP-CA Trajectory Files.\n"
      ]
    },
    {
      "cell_type": "code",
      "metadata": {
        "id": "3HZ2-fnGIy0k",
        "colab_type": "code",
        "colab": {}
      },
      "source": [
        "#@title **PPP-CA:** Load Trajectory {display-mode: \"form\"}\n",
        "#@markdown Use the [free online PPP processing software from the Natural Resources Canada  ](https://webapp.geod.nrcan.gc.ca//geod/account-compte/login.php?locale=en \"Free PPP\") server to generate a precision GNSS trajectory from your RINEX UAS data.\n",
        "\n",
        "try:\n",
        "  init_analysis()\n",
        "except:\n",
        "  print(\"You need to Run the 'Initilize Tool Box' first. Cell at the top.\" )\n",
        "else:\n",
        "  traj_target = 6 #@param [1,2,3,4,5,6,7] {type:\"raw\"}\n",
        "  User_Z_Bias = 0.0 #@param {type:\"raw\"}\n",
        "  PPP_Seconds_Offset = -16 #@param {type:\"integer\"}\n",
        "  ppp_pos_ifn = \"/content/2019-0725-GP212112-ppp-ca.pos\" #@param {type:\"string\"} \n",
        "  Trajectory_Type = \"PPP\" #@param [\"PPP\"] {allow-input: true}\n",
        "\n",
        "\n",
        "  #============================================================================\n",
        "  # Canadian PPP *.pos file reader\n",
        "  #============================================================================\n",
        "  init_analysis()\n",
        "  f = pathlib.Path(ppp_pos_ifn)\n",
        "  if f.exists() == False:\n",
        "    print(f,\" does not exist.\")\n",
        "  else:\n",
        "    ppp_pos = pd.read_csv(ppp_pos_ifn, skiprows=5, sep='\\s+' )\n",
        "    Trj_fn[traj_target] = ppp_pos_ifn\n",
        "    ppk_data = {}\n",
        "    ppk_data['hms_z']         = pd.to_datetime( ppp_pos['YEAR-MM-DD'] +\" \"+ppp_pos['HR:MN:SS.SS'] ) \\\n",
        "                                + pd.to_timedelta(PPP_Seconds_Offset, unit='seconds')\n",
        "    ppk_data['lat']         =     ppp_pos['LATDD']  + ppp_pos['LATMN']/60.0 + ppp_pos['LATSS']/3600.0\n",
        "    ppk_data['lon']         = -( abs(ppp_pos['LONDD']) + ppp_pos['LONMN']/60.0 + ppp_pos['LONSS']/3600.0 )\n",
        "    ppk_data['elev']        = ppp_pos['HGT(m)'] + User_Z_Bias\n",
        "    ppk_data['sdu95']       = ppp_pos['SDHGT(95%)']\n",
        "    ppk_data['gdop']        = ppp_pos['GDOP']\n",
        "    ppk_data['ns']          = ppp_pos['NSV']\n",
        "    ppk_data['q']           = 6;\n",
        "  \n",
        "\n",
        "    trajectories[traj_target]['Generating_Software'] = \"Can PPP\"\n",
        "    trajectories[traj_target]['Seconds_Offset']      = PPP_Seconds_Offset\n",
        "    trajectories[traj_target]['Trajectory_Type']     = Trajectory_Type\n",
        "    trajectories[traj_target]['ifn']  = ppp_pos_ifn\n",
        "    trajectories[traj_target]['z_bias']  = User_Z_Bias\n",
        "    trajectories[traj_target]['data'] = ppk_data\n",
        "\n",
        "    z = ppk_data['elev']\n",
        "    display_all_trj_stats()\n",
        "\n",
        "\n",
        "    \n"
      ],
      "execution_count": 0,
      "outputs": []
    },
    {
      "cell_type": "markdown",
      "metadata": {
        "id": "rNJwsJCdaVHh",
        "colab_type": "text"
      },
      "source": [
        "### GrafNav Trajectory Files."
      ]
    },
    {
      "cell_type": "code",
      "metadata": {
        "id": "Fr8rCbIxI3qL",
        "colab_type": "code",
        "cellView": "form",
        "colab": {}
      },
      "source": [
        "#@title **GrafNav:**  Load File.\n",
        "\n",
        "def load_grafnav_trj( fn ):\n",
        "  data = pd.DataFrame()\n",
        "  ppk_trj = pd.read_csv(fn,\n",
        "                    header=None, \n",
        "                    skiprows=40,\n",
        "                    index_col=False, \n",
        "                    infer_datetime_format=True,\n",
        "                    parse_dates=[['date','utc']],\n",
        "                    delim_whitespace=True,\n",
        "                    names=['UTMeasting', 'UTMnorthing', 'navd88', 'GPS_lat', 'GPS_lon', 'GPS_nad83h', 'Q', 'sdu', 'sdne', 'date', 'utc' ],\n",
        "                    skipinitialspace=True )\n",
        "  ppk_trj['Ztime'] = ppk_trj['date_utc']\n",
        "  ppk_trj['Ztime_idx'] = ppk_trj['Ztime']\n",
        "  ppk_trj = ppk_trj.set_index('Ztime_idx')\n",
        "  data['hms_z'] = ppk_trj['Ztime']\n",
        "  data['lat']   = ppk_trj['GPS_lat']\n",
        "  data['lon']   = ppk_trj['GPS_lon']\n",
        "  data['elev'] = ppk_trj['GPS_nad83h'] + User_Z_Bias\n",
        "  data['q']    = ppk_trj['Q']\n",
        "  data['sdu95'] = ppk_trj['sdu']*1.95\n",
        "  data['z_bias']    = User_Z_Bias\n",
        "\n",
        "  trajectories[traj_target]['Generating_Software'] = \"GrafNav\"\n",
        "  trajectories[traj_target]['Trajectory_Type'] = Trajectory_Type\n",
        "  trajectories[traj_target]['Seconds_Offset']    = GrafNav_Seconds_Offset\n",
        "  trajectories[traj_target]['z_bias']  = User_Z_Bias\n",
        "  trajectories[traj_target]['ifn']  = fn\n",
        "  trajectories[traj_target]['data'] = data\n",
        "#    print( trajectories[traj_target]['ifn'],\n",
        "#           trajectories[traj_target]['data']['lat'].count()\n",
        "#          )\n",
        "  return\n",
        "\n",
        "try:\n",
        "  init_analysis()\n",
        "except:\n",
        "  print(\"You need to Run the 'Initilize Tool Box' first. Cell at the top.\" )\n",
        "else:\n",
        "  traj_target = 7 #@param [1,2,3,4,5,6,7] {type:\"raw\"}\n",
        "  User_Z_Bias = 0.0 #@param {type:\"raw\"}\n",
        "  GrafNav_Seconds_Offset = 0 #@param {type:\"integer\"}\n",
        "  GrafNav_File_Name = \"/content/cww-2019-0912-p-GP205057-epochs-ppp.txt\" #@param {type:\"string\"}\n",
        "  Trajectory_Type = \"PPP\" #@param [\"PPK Single Base\", \"PPK Multi Base\", \"PPP\", \"RTK\", \"CA Code\", \"CA Code + WAAS\"] {allow-input: true}\n",
        " \n",
        "\n",
        "  f = pathlib.Path(GrafNav_File_Name)\n",
        "  if f.exists() == False:\n",
        "    print(f,\" does not exist.\")\n",
        "  else:\n",
        "    # Trj_fn[traj_target] = GrafNav_File_Name\n",
        "    load_grafnav_trj(GrafNav_File_Name)\n",
        "    #display_trj_stats( trajectories, traj_target )\n",
        "    display_all_trj_stats()\n"
      ],
      "execution_count": 0,
      "outputs": []
    },
    {
      "cell_type": "markdown",
      "metadata": {
        "id": "mHqzTNwTX7F-",
        "colab_type": "text"
      },
      "source": [
        "### RTKLIB Trajectory Files."
      ]
    },
    {
      "cell_type": "code",
      "metadata": {
        "id": "PyRb-TjhUFI7",
        "colab_type": "code",
        "cellView": "form",
        "colab": {}
      },
      "source": [
        "#@title **RTKLib:** Load File.\n",
        "traj_target = 5 #@param [1,2,3,4,5,6,7] {type:\"raw\"}\n",
        "RTKLIB_Seconds_Offset = 0 #@param {type:\"integer\"}\n",
        "User_Z_Bias = 0.0 #@param {type:\"raw\"}\n",
        "\n",
        "try:\n",
        "  init_analysis()\n",
        "except:\n",
        "  print(\"You need to Run the 'Initilize Tool Box' first. Cell at the top.\" )\n",
        "else:\n",
        "  \"\"\"\n",
        "  Loads a .pos \"Position file\" generated by RTKLIB into the pandas dataframe ppk_trj.  The .pos file\n",
        "  is expected to contain UTC time and not GPS time.\n",
        "  \"\"\"\n",
        "  PPK_File_Name = \"paste ppk file name here.\"\n",
        "  PPK_File_Name = \"/content/junk-B10GN-single.txt\" #@param {type:\"string\"}\n",
        "  Trajectory_Type = \"Code+Broadcast\" #@param [\"PPK\", \"RTK\", \"PPP\", \"Code\", \"Code+SBAS\"] {allow-input: true}\n",
        "\n",
        "\n",
        "  f = pathlib.Path(PPK_File_Name)\n",
        "  if f.exists() == False:\n",
        "    print(f,\" does not exist.\")\n",
        "  else:\n",
        "    Trj_fn[traj_target]=PPK_File_Name\n",
        "    ppk_trj = pd.read_csv( PPK_File_Name, \n",
        "                        names=['date', 'zhms', \n",
        "                                'GPS_lat', 'GPS_lon', 'GPS_nad83h','Q', 'ns',\n",
        "                                'sdn', 'sde', 'sdu', 'sdne', 'sdeu', 'sdun', 'age', 'ratio'],\n",
        "                        delim_whitespace=True,\n",
        "                        comment='%',\n",
        "                        skiprows = 1 )\n",
        "    # ppk_trj\n",
        "    ppk_trj['Ztime'] = pd.to_datetime( ppk_trj['date']+' '+ppk_trj['zhms']) \\\n",
        "                      + + pd.to_timedelta(RTKLIB_Seconds_Offset, unit='seconds')\n",
        "    ppk_trj['Ztime_idx'] = ppk_trj['Ztime']\n",
        "    ppk_trj = ppk_trj.set_index('Ztime_idx')\n",
        "\n",
        "    data = pd.DataFrame()\n",
        "    data['hms_z'] = ppk_trj['Ztime']\n",
        "    data['lat']   = ppk_trj['GPS_lat']\n",
        "    data['lon']   = ppk_trj['GPS_lon']\n",
        "    data['elev']  = ppk_trj['GPS_nad83h'] + User_Z_Bias\n",
        "    data['ns']    = ppk_trj['ns']\n",
        "    data['sdu95'] = ppk_trj['sdu']*1.95\n",
        "    data['q']     = ppk_trj['Q']\n",
        "    data['gdop']  = 0\n",
        "    trajectories[traj_target]['ifn'] = PPK_File_Name\n",
        "    trajectories[traj_target]['data'] = data\n",
        "    trajectories[traj_target]['z_bias']  = User_Z_Bias\n",
        "    trajectories[traj_target]['Generating_Software'] = \"RTKlib\"\n",
        "    trajectories[traj_target]['Trajectory_Type'] = Trajectory_Type\n",
        "    trajectories[traj_target]['Seconds_Offset']    = RTKLIB_Seconds_Offset\n",
        "    #display_trj_stats( trajectories, traj_target )\n",
        "    display_all_trj_stats()\n",
        "\n",
        "   # %load_ext google.colab.data_table\n",
        "   # display( data )\n",
        "   # %unload_ext google.colab.data_table\n",
        "\n",
        "\n"
      ],
      "execution_count": 0,
      "outputs": []
    },
    {
      "cell_type": "markdown",
      "metadata": {
        "id": "zlGrtmLAdlQ2",
        "colab_type": "text"
      },
      "source": [
        "## Trajectory Tools"
      ]
    },
    {
      "cell_type": "code",
      "metadata": {
        "colab_type": "code",
        "cellView": "form",
        "id": "hJlz9TcteZuE",
        "colab": {}
      },
      "source": [
        "#@title Display loaded Trajectories\n",
        "try:\n",
        "  init_analysis()\n",
        "except:\n",
        "  print(\"You need to Run the 'Initilize Tool Box' first. Cell at the top.\" )\n",
        "else:\n",
        "  display_all_trj_stats()"
      ],
      "execution_count": 0,
      "outputs": []
    },
    {
      "cell_type": "code",
      "metadata": {
        "colab_type": "code",
        "cellView": "form",
        "id": "bOuZtPCLZzzB",
        "colab": {}
      },
      "source": [
        "#@title Remove Selected Trajectory from Memory\n",
        "Trajector_to_Remove = 5 #@param [\"1\", \"2\", \"3\", \"4\", \"5\", \"6\", \"7\"] {type:\"raw\"}\n",
        "try:\n",
        "  init_analysis()\n",
        "except:\n",
        "  print(\"You need to Run the 'Initilize Tool Box' first. Cell at the top.\" )\n",
        "else:\n",
        "  print(Trajector_to_Remove)\n",
        "  trajectories[Trajector_to_Remove] = {}\n",
        "  print(\"Trajectory # \", Trajector_to_Remove, \" Removed from Memory.\")\n",
        "  display_all_trj_stats()"
      ],
      "execution_count": 0,
      "outputs": []
    },
    {
      "cell_type": "markdown",
      "metadata": {
        "id": "MXj8VAoY3wPS",
        "colab_type": "text"
      },
      "source": [
        "# Plots and Graphs"
      ]
    },
    {
      "cell_type": "markdown",
      "metadata": {
        "id": "rbMhXFiANCtg",
        "colab_type": "text"
      },
      "source": [
        "##Plotting Tools & Settings\n"
      ]
    },
    {
      "cell_type": "markdown",
      "metadata": {
        "id": "vJ3ZayL278YR",
        "colab_type": "text"
      },
      "source": [
        "### Plot options & Settings"
      ]
    },
    {
      "cell_type": "code",
      "metadata": {
        "id": "CLzo9H8B7fFd",
        "colab_type": "code",
        "cellView": "form",
        "colab": {}
      },
      "source": [
        "#@title 'Settings and Options' { run: \"auto\" }\n",
        "\n",
        "try:\n",
        "  init_analysis()\n",
        "except:\n",
        "  print(\"You need to Run the 'Initilize Tool Box' first. Cell at the top.\" )\n",
        "else:\n",
        "  try:\n",
        "      settings\n",
        "  except NameError:\n",
        "      settings = {}\n",
        "  #@markdown ---\n",
        "  Google_Maps_Key = \"Replace this with your Google Maps API Key\" #@param {type:\"string\"}\n",
        "  WebGL =  \"Enabled\" #@param [\"Enabled\", \"Disabled\"]\n",
        "  #@markdown ---\n",
        "  #@markdown #Trajectories to Plot \n",
        "  Trj1 = True #@param {type:\"boolean\"}\n",
        "  Trj2 = True #@param {type:\"boolean\"}\n",
        "  Trj3 = True #@param {type:\"boolean\"} \n",
        "  Trj4 = True #@param {type:\"boolean\"}\n",
        "  Trj5 = True #@param {type:\"boolean\"}\n",
        "  Trj6 = True #@param {type:\"boolean\"}\n",
        "  Trj7 = True #@param {type:\"boolean\"}\n",
        "  #@markdown ---\n",
        "  #@markdown  **Plot Options**\n",
        "  plot_dots = False #@param {type:\"boolean\"}\n",
        "  plot_lines = True #@param {type:\"boolean\"}\n",
        "\n",
        "  #@markdown ---\n",
        "  #@markdown **Graphic Window Size (Pixels)**\n",
        "  Width = 900 #@param {type:\"slider\", min:200, max:1000, step:10}\n",
        "  Height = 500 #@param {type:\"slider\", min:200, max:1000, step:10}\n",
        "  settings['plot_width'] =  Width\n",
        "  settings['plot_height'] = Height\n",
        "  Line_Width = 2 #@param [\"1\", \"2\", \"3\", \"4\", \"5\"] {type:\"raw\"}\n",
        "  #@markdown ---\n",
        "  #@markdown **Histogram Bin size** \n",
        "\n",
        "  binsz = binSize_In_cm / 100.0\n",
        "  binSize_In_cm = 2.5 #@param {type:\"slider\", min:1, max:100, step:0.5}\n",
        "  Trj[1] = Trj1\n",
        "  Trj[2] = Trj2\n",
        "  Trj[3] = Trj3\n",
        "  Trj[4] = Trj4\n",
        "  Trj[5] = Trj5\n",
        "  Trj[6] = Trj6\n",
        "  Trj[7] = Trj7\n",
        "  "
      ],
      "execution_count": 0,
      "outputs": []
    },
    {
      "cell_type": "markdown",
      "metadata": {
        "id": "d7B0h8Ns_JJm",
        "colab_type": "text"
      },
      "source": [
        "### Plot Lat vs Lon"
      ]
    },
    {
      "cell_type": "code",
      "metadata": {
        "id": "Gc1oqDzc_RNZ",
        "colab_type": "code",
        "cellView": "form",
        "colab": {}
      },
      "source": [
        "#@title Plot lat vs Lon\n",
        "\n",
        "try:\n",
        "  init_analysis()\n",
        "except:\n",
        "  print(\"You need to Run the 'Initilize Tool Box' first. Cell at the top.\" )\n",
        "else:\n",
        "  Lat_Lon_Title = \"2018-0331 Rod Bay, USVI \" #@param {type:\"string\"}\n",
        "  display_all_trj_stats()\n",
        "  p0 = open_new_plot()\n",
        "  p0.title.text = Elevation_Plot_Title = Lat_Lon_Title\n",
        "  p0.yaxis.axis_label = \"Latitude\"\n",
        "  p0.xaxis.axis_label = \"Longitude\"\n",
        "  for T in Trj:\n",
        "    if T in trajectories and Trj[T] == True and 'data' in trajectories[T]:\n",
        "      #print(\"in \",T, c[T], trajectories[T]['ifn'], trajectories[T]['Trajectory_Type'])\n",
        "      dt =  trajectories[T]['data']\n",
        "      if plot_lines:\n",
        "        p0.line(         \n",
        "          dt['lon'],\n",
        "          dt['lat'],\n",
        "          color=c[T],\n",
        "          legend=str(T),\n",
        "          line_width=2\n",
        "          )\n",
        "      if plot_dots:\n",
        "        p0.circle_cross(                          # Plot the elevations vs time\n",
        "          dt['lon'],\n",
        "          dt['lat'], \n",
        "          size=4,\n",
        "          legend=str(T),\n",
        "          color=c[T]\n",
        "          )\n",
        "    #else:\n",
        "            #print(\"else \", T, c[T],Trj[T], Trj_fn[T])\n",
        "  show(p0)"
      ],
      "execution_count": 0,
      "outputs": []
    },
    {
      "cell_type": "markdown",
      "metadata": {
        "id": "vVsDaEeHhu5Z",
        "colab_type": "text"
      },
      "source": [
        "### Plot elevation differences between trejectories."
      ]
    },
    {
      "cell_type": "markdown",
      "metadata": {
        "id": "ogEz63Nmhjfd",
        "colab_type": "text"
      },
      "source": [
        ""
      ]
    },
    {
      "cell_type": "code",
      "metadata": {
        "id": "2Rk7LHi2kkjv",
        "colab_type": "code",
        "cellView": "form",
        "colab": {}
      },
      "source": [
        "#@title **Plot** Elevation Differences: Trj1-Trj[n]\n",
        "#@markdown Y axis limits (m)\n",
        "dif_range = 0.5 #@param {type:\"slider\", min:0.25, max:2, step:0.25}\n",
        "\n",
        "Elevation_Plot_Title = \"Elevation Differences: Reference-Trajectory(n) 2018-0331 Rod Bay, USVI \" #@param {type:\"string\"}\n",
        "Reference_Trajectory = 1 #@param [1,2,3,4,5,6,7] {type:\"raw\"}\n",
        "\n",
        "\n",
        "import bokeh.plotting as bkp\n",
        "import bokeh.models as bkm\n",
        "try:\n",
        "  init_analysis()\n",
        "except:\n",
        "  print(\"You need to Run the 'Initilize Tool Box' first. Cell at the top.\" )\n",
        "else:\n",
        "  p0 = open_time_plot()\n",
        "  p0.title.text = Elevation_Plot_Title\n",
        "  p0.yaxis.axis_label = \"Elevation Difference (m)\"\n",
        "  print(\"The Reference is # \", Reference_Trajectory)\n",
        "\n",
        "  def plot_difs( p, n, c ):\n",
        "    mn1=trajectories[Reference_Trajectory]['data']['hms_z'].min() \n",
        "    mx1=trajectories[Reference_Trajectory]['data']['hms_z'].max()\n",
        "    td1=mx1-mn1\n",
        "    mn2=trajectories[n]['data']['hms_z'].min() \n",
        "    mx2=trajectories[n]['data']['hms_z'].max()\n",
        "    td2=mx2-mn2\n",
        "\n",
        "    if mn1 < mn2:\n",
        "      common_start = mn2\n",
        "    else:\n",
        "      common_start = mn1\n",
        "\n",
        "    if mx1 > mx2:\n",
        "      common_stop = mx2\n",
        "    else:\n",
        "      common_stop = mx1\n",
        "\n",
        "    td1,td2,mn1,mn2,mx1,mx2, common_start, common_stop\n",
        "    y_interp = np.interp(\n",
        "        trajectories[Reference_Trajectory]['data']['hms_z'],\n",
        "        trajectories[n]['data']['hms_z'],\n",
        "        trajectories[n]['data']['elev']\n",
        "        )\n",
        "    y_diff = trajectories[Reference_Trajectory]['data']['elev']-y_interp\n",
        "\n",
        "    y_diff\n",
        "\n",
        "    p0.line(                          # Plot the elevations vs time\n",
        "        pd.to_datetime(trajectories[Reference_Trajectory]['data']['hms_z']),\n",
        "        y_diff,\n",
        "        color=c,\n",
        "        legend=str(Reference_Trajectory)+\" - \"+str(n),\n",
        "        )\n",
        "    p0.y_range=bkm.Range1d(-dif_range-.1,dif_range+.1)\n",
        "    return\n",
        "\n",
        "  display_all_trj_stats()\n",
        "  if Reference_Trajectory in trajectories:\n",
        "    for T in trajectories:\n",
        "      if T in trajectories and Trj[T] == True and 'data' in trajectories[T] and 'data' in trajectories[Reference_Trajectory]:\n",
        "        #print(\"in \",T, c[T], trajectories[T]['ifn'], trajectories[T]['Trajectory_Type'])\n",
        "        #print(T, c[T],  Trj_fn[T])\n",
        "        if T != Reference_Trajectory:\n",
        "          plot_difs( p0, T, c[T] )\n",
        "    show(p0)\n",
        "  else:\n",
        "    print(\"No reference trajectory selected.\")\n",
        "\n"
      ],
      "execution_count": 0,
      "outputs": []
    },
    {
      "cell_type": "markdown",
      "metadata": {
        "id": "ILQYtSTs74Fj",
        "colab_type": "text"
      },
      "source": [
        "## Plot Number of satelites & height stdev vs time"
      ]
    },
    {
      "cell_type": "code",
      "metadata": {
        "id": "FdsmuWd88KYa",
        "colab_type": "code",
        "cellView": "form",
        "colab": {}
      },
      "source": [
        "#@title Plot Stdev95 vs Time\n",
        "#@markdown Y axis limits (m)\n",
        "Elev_range = 0.3 #@param {type:\"slider\", min:0.1, max:5, step:0.1}\n",
        "import bokeh.plotting as bkp\n",
        "import bokeh.models as bkm\n",
        "\n",
        "try:\n",
        "  init_analysis()\n",
        "except:\n",
        "  print(\"You need to Run the 'Initilize Tool Box' first. Cell at the top.\" )\n",
        "else:\n",
        "  display_all_trj_stats()\n",
        "  Elevation_Stats = \"Elevation Stdev95% & NSATS vs Time 2018-0331 Rod Bay, USVI \" #@param {type:\"string\"}\n",
        "  p0 = open_time_plot()\n",
        "  p0.yaxis.axis_label= \"Elevation Std Dev (95%)\"\n",
        "  p0.title.text = Elevation_Stats\n",
        "  p0.add_layout(bkm.LinearAxis(y_range_name=\"NSATS\"), 'right')\n",
        "  p0.extra_y_ranges = {\"NSATS\": bkm.Range1d(start=0, end=20) }\n",
        "  for T in Trj:\n",
        "    if T in trajectories and Trj[T] == True and 'data' in trajectories[T]:\n",
        "      #print(T, c[T], trajectories[T]['ifn'], trajectories[T]['Trajectory_Type'])\n",
        "      dt =  trajectories[T]['data']\n",
        "      if plot_dots:\n",
        "        p0.circle_cross(                         # Plot the elevations vs time\n",
        "        pd.to_datetime(dt['hms_z']),\n",
        "        dt['sdu95'], \n",
        "        size=4,\n",
        "        color=c[T]\n",
        "        )\n",
        "      if plot_lines:\n",
        "        p0.line(                                 # Plot the elevations vs time\n",
        "        pd.to_datetime(dt['hms_z']),\n",
        "        dt['sdu95'], \n",
        "        color=c[T],\n",
        "        line_width=Line_Width,\n",
        "        legend=\"SDU95\"\n",
        "        )\n",
        "        if 'ns' in dt:\n",
        "          p0.line(pd.to_datetime(dt['hms_z']),\n",
        "                dt['ns'],\n",
        "                color=\"Black\",\n",
        "                line_width=Line_Width,\n",
        "                line_dash='dotted',\n",
        "                legend=\"NSATS\",\n",
        "                y_range_name=\"NSATS\"\n",
        "                )\n",
        "        p0.y_range=bkm.Range1d(0.0,Elev_range+.02)\n",
        "\n",
        "      p0.y_range=bkm.Range1d(0.0,Elev_range)\n",
        "  show(p0)"
      ],
      "execution_count": 0,
      "outputs": []
    },
    {
      "cell_type": "markdown",
      "metadata": {
        "id": "DK4IN3rc92Wm",
        "colab_type": "text"
      },
      "source": [
        "## Plot Elevations\n"
      ]
    },
    {
      "cell_type": "code",
      "metadata": {
        "id": "s6I15470KDtF",
        "colab_type": "code",
        "cellView": "form",
        "colab": {}
      },
      "source": [
        "#@title Plot Elevations vs Time\n",
        "import bokeh.plotting as bkp\n",
        "import bokeh.models as bkm\n",
        "\n",
        "Elevation_Dif_Plot_Title = \"Elevations vs Time (2018-0331 Rod Bay, USVI  )\" #@param {type:\"string\"}\n",
        "\n",
        "try:\n",
        "  init_analysis()\n",
        "except:\n",
        "  print(\"You need to Run the 'Initilize Tool Box' first. Cell at the top.\" )\n",
        "else:\n",
        "  display_all_trj_stats()\n",
        "  p0 = open_time_plot()\n",
        "  p0.title.text = Elevation_Dif_Plot_Title\n",
        "  for T in Trj:\n",
        "    if T in trajectories and Trj[T] == True and 'data' in trajectories[T]:\n",
        "      #print(T, c[T], Trj_fn[T])\n",
        "      dt =  trajectories[T]['data']\n",
        "      if plot_dots:\n",
        "        p0.circle_cross(                          # Plot the elevations vs time\n",
        "        pd.to_datetime(dt['hms_z']),\n",
        "        dt['elev'], \n",
        "        size=4,\n",
        "        color=c[T],\n",
        "        )\n",
        "      if plot_lines:\n",
        "        p0.line(                          # Plot the elevations vs time\n",
        "        pd.to_datetime(dt['hms_z']),\n",
        "        dt['elev'],\n",
        "        legend=str(T),\n",
        "        line_width=Line_Width, \n",
        "        color=c[T]\n",
        "        )\n",
        "\n",
        "  show(p0)"
      ],
      "execution_count": 0,
      "outputs": []
    },
    {
      "cell_type": "code",
      "metadata": {
        "id": "FqirQWdElVwL",
        "colab_type": "code",
        "colab": {}
      },
      "source": [
        "!convbin --help"
      ],
      "execution_count": 0,
      "outputs": []
    },
    {
      "cell_type": "markdown",
      "metadata": {
        "id": "0afjevcn-EGi",
        "colab_type": "text"
      },
      "source": [
        "## Plot Elevation Histograms"
      ]
    },
    {
      "cell_type": "code",
      "metadata": {
        "colab_type": "code",
        "cellView": "form",
        "id": "ASlS7Tzys4kV",
        "colab": {}
      },
      "source": [
        "#@title Plot Elevation Histograms\n",
        "# Based on: https://docs.scipy.org/doc/numpy/reference/generated/numpy.histogram.html\n",
        "\n",
        "def ppk_zhist(p1, x, z, c, lbl):\n",
        "  p1.xaxis.axis_label = \"Elevation Meters\"\n",
        "  if plot_lines:\n",
        "    p1.line(x,z, \n",
        "            color=c, \n",
        "            line_width=Line_Width,\n",
        "            legend=lbl\n",
        "            )\n",
        "  if plot_dots:\n",
        "    p1.circle(x,z,fill_color='white', color=c, size=8)\n",
        "\n",
        "\n",
        "def gen_hist( p1, data, c, lbl ):\n",
        "  data = trajectories[T]['data']\n",
        "  binsz = settings['binsz']\n",
        "  z = data['elev']\n",
        "  a = np.arange(z.min(), z.max(), binsz)\n",
        "  h, edges = np.histogram( data['elev'], range=(z.min(),z.max()), bins=a.size)\n",
        "  i = np.where( h == h.max())[0]\n",
        "  i = i[0]\n",
        "  edges[i]\n",
        "  to_z = edges[i]\n",
        "  ppk_zhist( p1, edges[0:-1], h, c, lbl )\n",
        "\n",
        "try:\n",
        "  init_analysis()\n",
        "except:\n",
        "  print(\"You need to Run the 'Initilize Tool Box' first. Cell at the top.\" )\n",
        "else:\n",
        "\n",
        "  #print(h.max(),\" Values found at \", to_z, \"m Elevation (m) using \", binsz*100.0, \"cm bins.\")\n",
        "  #print(\"This is the most likely takeoff location.\")\n",
        "  display_all_trj_stats()\n",
        "  p1 = open_new_plot()\n",
        "  Elevation_histograms_Title =  \"Takeoff Target. 2.5cm Bins.  2018-0331 Rod Bay, USVI \" #@param \"ddd\" {type:\"string\"}\n",
        "  binSize_In_cm = 36 #@param {type:\"slider\", min:1, max:100, step:0.5}\n",
        "  binsz = binSize_In_cm / 100.0\n",
        "  settings['binsz'] = binsz\n",
        "  \n",
        "  if Elevation_histograms_Title == \"\":\n",
        "    p1.title.text =  \"Historgrams with \"+str(binSize_In_cm)+\"cm bins\"\n",
        "  else:\n",
        "    p1.title.text = Elevation_histograms_Title\n",
        "\n",
        "\n",
        "  p1.xaxis.axis_label = \"Elevation (meters)\"\n",
        "  p1.yaxis.axis_label = \"Count\"\n",
        "  for T in Trj:\n",
        "    if T in trajectories and Trj[T] == True and 'data' in trajectories[T]:\n",
        "      #print(T, c[T], trajectories[T]['ifn'])\n",
        "      gen_hist( p1, trajectories[T], c[T], str(T) )\n",
        "\n",
        "  show(p1)\n"
      ],
      "execution_count": 0,
      "outputs": []
    },
    {
      "cell_type": "markdown",
      "metadata": {
        "id": "c-BtejKnsMBD",
        "colab_type": "text"
      },
      "source": [
        "###  rnx2rtkp usage.\n",
        "```\n",
        "usage: rnx2rtkp [option]... file file [...]\n",
        "\n",
        " Read RINEX OBS/NAV/GNAV/HNAV/CLK, SP3, SBAS message log files and ccompute \n",
        " receiver (rover) positions and output position solutions.\n",
        " The first RINEX OBS file shall contain receiver (rover) observations. For the\n",
        " relative mode, the second RINEX OBS file shall contain reference\n",
        " (base station) receiver observations. At least one RINEX NAV/GNAV/HNAV\n",
        " file shall be included in input files. To use SP3 precise ephemeris, specify\n",
        " the path in the files. The extension of the SP3 file shall be .sp3 or .eph.\n",
        " All of the input file paths can include wild-cards (*). To avoid command\n",
        " line deployment of wild-cards, use \"...\" for paths with wild-cards.\n",
        " Command line options are as follows ([]:default). With -k option, the\n",
        " processing options are input from the configuration file. In this case,\n",
        " command line options precede options in the configuration file.\n",
        "\n",
        " -?        print help\n",
        " -k file   input options from configuration file [off]\n",
        " -o file   set output file [stdout]\n",
        " -ts ds ts start day/time (ds=y/m/d ts=h:m:s) [obs start time]\n",
        " -te de te end day/time   (de=y/m/d te=h:m:s) [obs end time]\n",
        " -ti tint  time interval (sec) [all]\n",
        " -p mode   mode (0:single,1:dgps,2:kinematic,3:static,4:moving-base,\n",
        "                 5:fixed,6:ppp-kinematic,7:ppp-static) [2]\n",
        " -m mask   elevation mask angle (deg) [15]\n",
        " -f freq   number of frequencies for relative mode (1:L1,2:L1+L2,3:L1+L2+L5) [2]\n",
        " -v thres  validation threshold for integer ambiguity (0.0:no AR) [3.0]\n",
        " -b        backward solutions [off]\n",
        " -c        forward/backward combined solutions [off]\n",
        " -i        instantaneous integer ambiguity resolution [off]\n",
        " -h        fix and hold for integer ambiguity resolution [off]\n",
        " -e        output x/y/z-ecef position [latitude/longitude/height]\n",
        " -a        output e/n/u-baseline [latitude/longitude/height]\n",
        " -n        output NMEA-0183 GGA sentence [off]\n",
        " -g        output latitude/longitude in the form of ddd mm ss.ss' [ddd.ddd]\n",
        " -t        output time in the form of yyyy/mm/dd hh:mm:ss.ss [sssss.ss]\n",
        " -u        output time in utc [gpst]\n",
        " -d col    number of decimals in time [3]\n",
        " -s sep    field separator [' ']\n",
        " -r x y z  reference (base) receiver ecef pos (m) [average of single pos]\n",
        "           rover receiver ecef pos (m) for fixed or ppp-fixed mode\n",
        " -l lat lon hgt reference (base) receiver latitude/longitude/height (deg/m)\n",
        "           rover latitude/longitude/height for fixed or ppp-fixed mode\n",
        " -y level  output soltion status (0:off,1:states,2:residuals) [0]\n",
        " -x level  debug trace level (0:off) [0]\n",
        " ```"
      ]
    },
    {
      "cell_type": "code",
      "metadata": {
        "id": "b2zakFFPrZRK",
        "colab_type": "code",
        "colab": {}
      },
      "source": [
        "!/usr/bin/rnx2rtkp --help"
      ],
      "execution_count": 0,
      "outputs": []
    },
    {
      "cell_type": "code",
      "metadata": {
        "id": "p9u1Joz_1jkQ",
        "colab_type": "code",
        "colab": {}
      },
      "source": [
        "!head -200 /content/junk-B15N.txt\n",
        "#!head -100 /content/2018-0331-stx.obs"
      ],
      "execution_count": 0,
      "outputs": []
    },
    {
      "cell_type": "code",
      "metadata": {
        "id": "-2ue1Bvri4-o",
        "colab_type": "code",
        "colab": {}
      },
      "source": [
        "!convbin -r nov  /content/2018-0331-rod-bay-xfer.RAW \n",
        "!head -50 /content/2018-0331-rod-bay-xfer.obs"
      ],
      "execution_count": 0,
      "outputs": []
    },
    {
      "cell_type": "code",
      "metadata": {
        "id": "O4wIYDSzvMCI",
        "colab_type": "code",
        "cellView": "both",
        "colab": {}
      },
      "source": [
        "#@title 1) Download and Install RTKlib\n",
        "# download and install RTKLIB\n",
        "!apt-get install rtklib\n",
        "\n"
      ],
      "execution_count": 0,
      "outputs": []
    },
    {
      "cell_type": "code",
      "metadata": {
        "id": "3iIMq3OQwG1S",
        "colab_type": "code",
        "cellView": "form",
        "colab": {}
      },
      "source": [
        "#@title 2) Show where RTKlib programs are installed\n",
        "!which convbin\n",
        "!which rnx2rtkp"
      ],
      "execution_count": 0,
      "outputs": []
    },
    {
      "cell_type": "code",
      "metadata": {
        "id": "CBFzVEOe4y-y",
        "colab_type": "code",
        "cellView": "form",
        "colab": {}
      },
      "source": [
        "#@title 3) Convert raw to RINEX, then show resulting RINEX header\n",
        "!convbin -v 2.11 -os -ol -ot -r nov \\\n",
        "-ho 'W. Wright / C.W. Wright Consulting ' \\\n",
        "-hm 'UAS-XFER' \\\n",
        "-hr 'CWW-PPK / GNSS / v2r2' \\\n",
        "-hc 'comment Generated on Google Colabs Platform' \\\n",
        "-hc 'comment #2' \\\n",
        " /content/GP212112.RAW\n",
        "\n",
        "!head -25 /content/GP212112.obs"
      ],
      "execution_count": 0,
      "outputs": []
    },
    {
      "cell_type": "code",
      "metadata": {
        "id": "jMgI6HQUY78n",
        "colab_type": "code",
        "colab": {}
      },
      "source": [
        ""
      ],
      "execution_count": 0,
      "outputs": []
    },
    {
      "cell_type": "markdown",
      "metadata": {
        "id": "57ItAVK221ZP",
        "colab_type": "text"
      },
      "source": [
        "# RTKlib Cells"
      ]
    },
    {
      "cell_type": "code",
      "metadata": {
        "colab_type": "code",
        "id": "VY_ytVyXlYDF",
        "cellView": "form",
        "colab": {}
      },
      "source": [
        "#@title Run RTKlib process for SBAS\n",
        "\n",
        "!rm -rf /content/junk-P10GN-sbas.txt\n",
        "!/usr/bin/rnx2rtkp  -k /content/rtklib-linux.conf -t -u -d 6 -c -p 1 -m 10 \\\n",
        "-f 2 -h -o junk-P10GN-sbas.txt /content/GP212112.obs  /content/ctmc2060.19o  \\\n",
        " /content/ctmc2060.19n /content/ctmc2060.19g /content/igs20634.sp3\n",
        "!head -50 /content/junk-P10GN-sbas.txt"
      ],
      "execution_count": 0,
      "outputs": []
    },
    {
      "cell_type": "code",
      "metadata": {
        "id": "B3irkg7Vov3S",
        "colab_type": "code",
        "colab": {}
      },
      "source": [
        ""
      ],
      "execution_count": 0,
      "outputs": []
    },
    {
      "cell_type": "code",
      "metadata": {
        "colab_type": "code",
        "id": "kglC4QPHowkH",
        "cellView": "form",
        "colab": {}
      },
      "source": [
        "#@title Run RTKlib process for Single with broadcast\n",
        "\n",
        "!rm -rf /content/junk-B10GN-single.txt\n",
        "!/usr/bin/rnx2rtkp  -k /content/rtklib-linux-b.conf -t -u -d 6 -c -p 0 -m 10 \\\n",
        "-f 2 -h -o junk-B10GN-single.txt /content/GP212112.obs  \\\n",
        " /content/ctmc2060.19n /content/ctmc2060.19g\n",
        "!head -50 /content/junk-B10GN-single.txt"
      ],
      "execution_count": 0,
      "outputs": []
    },
    {
      "cell_type": "code",
      "metadata": {
        "colab_type": "code",
        "id": "i8hSKPj5Y9lu",
        "cellView": "form",
        "colab": {}
      },
      "source": [
        "#@title Run RTKlib process for Single\n",
        "\n",
        "!rm -rf /content/junk-P10GN-single.txt\n",
        "!/usr/bin/rnx2rtkp  -k /content/rtklib-linux.conf -t -u -d 6 -c -p 0 -m 10 \\\n",
        "-f 2 -h -o junk-P10GN-single.txt /content/GP212112.obs  /content/ctmc2060.19o  \\\n",
        " /content/ctmc2060.19n /content/ctmc2060.19g /content/igs20634.sp3\n",
        "!head -50 /content/junk-P10GN-single.txt"
      ],
      "execution_count": 0,
      "outputs": []
    },
    {
      "cell_type": "code",
      "metadata": {
        "colab_type": "code",
        "id": "9ojVCPXXk509",
        "cellView": "form",
        "colab": {}
      },
      "source": [
        "#@title Run RTKlib process for kinematic\n",
        "\n",
        "!rm -rf /content/junk-P10N-ppk.txt\n",
        "!/usr/bin/rnx2rtkp  -k /content/rtklib-linux.conf -t -u -d 6 -c -p 2 -m 10 \\\n",
        "-f 2 -h -o junk-P10GN-ppk.txt /content/GP212112.obs  /content/ctmc2060.19o  \\\n",
        " /content/ctmc2060.19n /content/ctmc2060.19g /content/igs20634.sp3\n",
        "!head -25 /content/junk-P10GN-ppk.txt"
      ],
      "execution_count": 0,
      "outputs": []
    },
    {
      "cell_type": "code",
      "metadata": {
        "id": "GayXBA6Ln_WY",
        "colab_type": "code",
        "cellView": "form",
        "colab": {}
      },
      "source": [
        "#@title Run RTKlib process for PPP\n",
        "Elevation_Mask = \"15\" #@param {type:\"string\"}\n",
        "print(Elevation_Mask)\n",
        "\n",
        "\n",
        "!rm -rf /content/junk-P10GN-ppp.txt\n",
        "!/usr/bin/rnx2rtkp  -k /content/rtklib-linux.conf -t -u -d 6 -c -p 6 -m 10 \\\n",
        "-f 2 -h -o junk-P10GN-ppp.txt /content/GP212112.obs  /content/ctmc2060.19o  \\\n",
        " /content/ctmc2060.19n /content/ctmc2060.19g /content/igs20634.sp3\n",
        "!head -25 /content/junk-P10GN-ppp.txt"
      ],
      "execution_count": 0,
      "outputs": []
    },
    {
      "cell_type": "markdown",
      "metadata": {
        "id": "rkWHVTsxznA8",
        "colab_type": "text"
      },
      "source": [
        "## RTKlib run help "
      ]
    },
    {
      "cell_type": "markdown",
      "metadata": {
        "id": "ndZQVhOD1MPw",
        "colab_type": "text"
      },
      "source": [
        "# Works in Progress"
      ]
    },
    {
      "cell_type": "code",
      "metadata": {
        "id": "5zuMG-HXLLSN",
        "colab_type": "code",
        "cellView": "form",
        "colab": {}
      },
      "source": [
        "#@title Experiment with ip Widgets\n",
        "import ipywidgets as ipw\n",
        "from IPython.display import display\n",
        "button = ipw.Button(description=\"Click Me!\")\n",
        "cb1 = ipw.Checkbox( value=False, description=\"Check1\", tooltip=\"A tip here.\", button_style='')\n",
        "cb2 = ipw.Checkbox( value=False, description=\"Check2\", tooltip=\"A tip here.\", button_style='')\n",
        "cb = {}\n",
        "for i in range(1,8):\n",
        "  cb[i] = ipw.Checkbox( value=False, description=\"Check\", tooltip=\"A tip here.\", button_style='')\n",
        "output = ipw.Output()\n",
        "\n",
        "def on_button_clicked(b):\n",
        "  # Display the message within the output widget.\n",
        "  with output:\n",
        "    print(\"Button clicked.\")\n",
        "\n",
        "for i in range(1,8):\n",
        "  display( cb[i])\n",
        "button.on_click(on_button_clicked)\n",
        "display(button, cb1, cb2,  output)"
      ],
      "execution_count": 0,
      "outputs": []
    },
    {
      "cell_type": "code",
      "metadata": {
        "id": "uQMyPt1KWxLT",
        "colab_type": "code",
        "cellView": "form",
        "colab": {}
      },
      "source": [
        "#@title Generate output suitable for the PPK-geotagging notebook.  Select Trejector, then run this cell\n",
        "Selected_Output_Trajectory = 3 #@param [\"1\", \"2\",\"3\",\"4\", \"5\", \"6\",\"7\"] {type:\"raw\"}\n",
        "\n",
        "try:\n",
        "  init_analysis()\n",
        "except:\n",
        "  print(\"You need to Run the 'Initilize Tool Box' first. Cell at the top.\" )\n",
        "else:\n",
        "  t_out = trajectories[Selected_Output_Trajectory]\n",
        "  d_out = trajectories[Selected_Output_Trajectory]['data']\n",
        "  print(t_out['ifn'])\n",
        "  ofn = str.split( str.split(t_out['ifn'],'/')[-1], '.')[0]+'-TR.csv'\n",
        "  print('# Orginal Generating Software:', t_out['Generating_Software'] )\n",
        "  print('#                      Method:', t_out['Trajectory_Type'] )\n",
        "  print(d_out[{'lat','lon','elev'}])"
      ],
      "execution_count": 0,
      "outputs": []
    }
  ]
}