{
  "nbformat": 4,
  "nbformat_minor": 0,
  "metadata": {
    "colab": {
      "name": "Test-PPK-lib.ipynb",
      "provenance": [],
      "private_outputs": true,
      "toc_visible": true,
      "include_colab_link": true
    },
    "kernelspec": {
      "name": "python3",
      "display_name": "Python 3"
    }
  },
  "cells": [
    {
      "cell_type": "markdown",
      "metadata": {
        "id": "view-in-github",
        "colab_type": "text"
      },
      "source": [
        "<a href=\"https://colab.research.google.com/github/lidar532/ppkgeotag/blob/master/Test_PPK_lib.ipynb\" target=\"_parent\"><img src=\"https://colab.research.google.com/assets/colab-badge.svg\" alt=\"Open In Colab\"/></a>"
      ]
    },
    {
      "cell_type": "markdown",
      "metadata": {
        "id": "FgJ6HqboTgKa",
        "colab_type": "text"
      },
      "source": [
        "# Download library from github."
      ]
    },
    {
      "cell_type": "code",
      "metadata": {
        "colab_type": "code",
        "id": "KAUu1IhXPB5E",
        "colab": {}
      },
      "source": [
        "#@title Login, Load the code,  and load the sample data.   {display-mode: \"form\"}\n",
        "###############################################################\n",
        "#    This cell is for Linux / Google Colabs ONLY              #\n",
        "#    It will not run, and isn't needed on windows.            #\n",
        "###############################################################\n",
        "%%shell\n",
        "## Upload your ppkuser.privatekey before executing this.\n",
        "cd /content\n",
        "if [[ -e ppkuser.private ]]; then\n",
        "  mkdir -p /root/.ssh                                        #\n",
        "  cp ppkuser.private /root/.ssh/id_rsa                       #\n",
        "  chmod 600 /root/.ssh/id_rsa                                #\n",
        "  ssh-keyscan github.com > /root/.ssh/known_hosts            #\n",
        "  echo \"Downloading the latest ppk module..\"\n",
        "  cd /content                                                #\n",
        "  rm -rf *.git cwwppkgeotaglib                               #\n",
        "  git clone git@github.com:lidar532/cwwppkgeotaglib.git      #\n",
        "  cp cwwppkgeotaglib/cwwppkgeotaglib.py /content             #\n",
        "  pip install pyproj                                         #\n",
        "  echo \"Dowwnloading Example PPK Datasets...\"\n",
        "  cd /content\n",
        "  \n",
        "  if [[ -e PPK_Sample_data ]]; then\n",
        "    mkdir -p trash\n",
        "    mv PPK_Sample_data trash                                 #\n",
        "    cd trash                                                 #\n",
        "    rm -rf *\n",
        "   fi\n",
        "   \n",
        "  cd /content                                                #\n",
        "  git clone https://github.com/lidar532/PPK_Sample_data.git  #\n",
        "  echo '\n",
        "  ******************************************************************\n",
        "  *             All done, Ready to process data.                   *\n",
        "  ******************************************************************'\n",
        "else\n",
        "  echo '\n",
        "  ********************************************************************************************\n",
        "  *     No user key file found.  Please upload your ppkuser.private Key File, and try again. *\n",
        "  ********************************************************************************************'\n",
        "fi"
      ],
      "execution_count": 0,
      "outputs": []
    },
    {
      "cell_type": "markdown",
      "metadata": {
        "id": "g8QKXGjgT4xk",
        "colab_type": "text"
      },
      "source": [
        "# Load and test the library with arious data sets "
      ]
    },
    {
      "cell_type": "code",
      "metadata": {
        "id": "pwBOjMtvMA2L",
        "colab_type": "code",
        "cellView": "form",
        "colab": {}
      },
      "source": [
        "#@title Run testing using Colabs Denver Federal Center Pond\n",
        "\n",
        "\n",
        "## Denver Fed Center Pond\n",
        "Trajectory_Source      = \"RTKlib\"\n",
        "Exif_File_Name         = \"/content/PPK_Sample_data/2019-0326-Co-DenverFedCenter_pond/2019-0326-F1F2-exif.csv\"\n",
        "Trajectory_file_Name   = \"/content/PPK_Sample_data/2019-0326-Co-DenverFedCenter_pond/GP213208-U15NG-CTMC.pos\" \n",
        "Flash_Events_file_Name = \"/content/PPK_Sample_data/2019-0326-Co-DenverFedCenter_pond/GP213208.TXT\"\n",
        "Trajectory_GPS_to_UTC_Time_difference = 0\n",
        "EXIF_drift_correction_seconds = -7\n",
        "EXIF_Offset_from_UTC_Hours    = 6\n",
        "Base_station_ID = 'CTMC'\n",
        "User_Notes = \"Test with Denver Federal Center Pond\"\n",
        "Generate_Output_File = \"Yes\"    # Yes or No\n",
        "## Selecte plots\n",
        "Plot_Times                    = True \n",
        "Show_File_Stats               = True\n",
        "Show_Flash_event_Distribution = False \n",
        "Show_XYZ_Std_Devs             = False\n",
        "Show_Photo_Location_Plan_View = False\n",
        "Show_Photo_Elevations         = False \n",
        "## END DEN Fed Center\n"
      ],
      "execution_count": 0,
      "outputs": []
    },
    {
      "cell_type": "code",
      "metadata": {
        "colab_type": "code",
        "cellView": "form",
        "id": "FbjYmGUX_LiT",
        "colab": {}
      },
      "source": [
        "#@title Run testing using USVI 2018-0326 PPP_ca\n",
        "\n",
        "## Denver Fed Center Pond\n",
        "Trajectory_Source      = \"PPP-Ca\"\n",
        "Exif_File_Name         = \"/content/PPK_Sample_data/2018-0326 USVI PPP/2018-0326-exif.csv\"\n",
        "Trajectory_file_Name   = \"/content/PPK_Sample_data/2018-0326 USVI PPP/2018-0326-gps-TFR-ppp-flight2.pos\" \n",
        "Flash_Events_file_Name = \"/content/PPK_Sample_data/2018-0326 USVI PPP/2018-0326-gps-TFR.TXT\"\n",
        "Trajectory_GPS_to_UTC_Time_difference = -16\n",
        "EXIF_drift_correction_seconds = 0\n",
        "EXIF_Offset_from_UTC_Hours    = 4\n",
        "Base_station_ID = 'PPP-Ca'\n",
        "User_Notes = \"USVI 2018-0326 St. Croix, Buck Island\"\n",
        "Generate_Output_File = \"Yes\"    # Yes or No\n",
        "## Selecte plots\n",
        "Plot_Times                    = True \n",
        "Show_File_Stats               = True\n",
        "Show_Flash_event_Distribution = False \n",
        "Show_XYZ_Std_Devs             = False\n",
        "Show_Photo_Location_Plan_View = False\n",
        "Show_Photo_Elevations         = False \n",
        "## END DEN Fed Center\n"
      ],
      "execution_count": 0,
      "outputs": []
    },
    {
      "cell_type": "code",
      "metadata": {
        "colab_type": "code",
        "id": "EWYV1bSFVNf2",
        "cellView": "form",
        "colab": {}
      },
      "source": [
        "#@title Run testing using Larry Sanders Park Dataset\n",
        "\n",
        "\n",
        "## Denver Fed Center Pond\n",
        "Trajectory_Source      = \"RTKlib\"\n",
        "Exif_File_Name         = \"/content/PPK_Sample_data/2019-0311-Fla-LarrySandersPark/2019-0311-exif.csv\"\n",
        "Trajectory_file_Name   = \"/content/PPK_Sample_data/2019-0311-Fla-LarrySandersPark/GP184856-NG15PK-FLD7.pos\" \n",
        "Flash_Events_file_Name = \"/content/PPK_Sample_data/2019-0311-Fla-LarrySandersPark/GP184856.TXT\"\n",
        "Trajectory_GPS_to_UTC_Time_difference = 0\n",
        "EXIF_drift_correction_seconds = -37\n",
        "EXIF_Offset_from_UTC_Hours    = 4\n",
        "Base_station_ID = 'FLD7'\n",
        "User_Notes = \"Larry Saunders Park, Tampa Fla.  FireFly Test.\"\n",
        "Generate_Output_File = \"Yes\"    # Yes or No\n",
        "## Selecte plots\n",
        "Plot_Times                    = True \n",
        "Show_File_Stats               = True\n",
        "Show_Flash_event_Distribution = False \n",
        "Show_XYZ_Std_Devs             = False\n",
        "Show_Photo_Location_Plan_View = False\n",
        "Show_Photo_Elevations         = False \n",
        "## END DEN Fed Center\n"
      ],
      "execution_count": 0,
      "outputs": []
    },
    {
      "cell_type": "code",
      "metadata": {
        "id": "FHcrLNEmO4E_",
        "colab_type": "code",
        "cellView": "form",
        "colab": {}
      },
      "source": [
        "#@title Run ppk.process_cww_ppk_files()  batch process.\n",
        "import os\n",
        "import sys\n",
        "#import pandas as pd\n",
        "import cwwppkgeotaglib as ppk\n",
        "\n",
        "Debugging_Output = \"None\"  #  \"None\" # [\"None\", \"Function EntryExit\", \"\"]\n",
        "ppk.ppk_user_settings['Exif_File_Name']                   = os.path.normpath(Exif_File_Name)\n",
        "ppk.ppk_user_settings['Flash_Events_file_Name']           = os.path.normpath(Flash_Events_file_Name)\n",
        "ppk.ppk_user_settings['Trajectory_file_Name']             = os.path.normpath(Trajectory_file_Name)\n",
        "ppk.ppk_user_settings['Trajectory_GPS_to_UTC_Time_difference'] = Trajectory_GPS_to_UTC_Time_difference\n",
        "ppk.ppk_user_settings['Trajectory_Source']                = Trajectory_Source\n",
        "ppk.ppk_user_settings['EXIF_drift_correction_seconds']    = EXIF_drift_correction_seconds\n",
        "ppk.ppk_user_settings['EXIF_Offset_from_UTC_Hours']       = EXIF_Offset_from_UTC_Hours\n",
        "ppk.ppk_user_settings['Generate_Output_File']             = Generate_Output_File\n",
        "ppk.ppk_user_settings['Base_station_ID']                  = Base_station_ID\n",
        "ppk.ppk_user_settings['User_Notes']                       = User_Notes\n",
        "ppk.ppk_user_settings['Generate_Output_File']             = Generate_Output_File\n",
        "ppk.ppk_user_settings['Plot_Times']                       = Plot_Times\n",
        "ppk.ppk_user_settings['Show_File_Stats']                  = Show_File_Stats\n",
        "ppk.ppk_user_settings['Show_Flash_event_Distribution']    = Show_Flash_event_Distribution\n",
        "ppk.ppk_user_settings['Show_XYZ_Std_Devs']                = Show_XYZ_Std_Devs\n",
        "ppk.ppk_user_settings['Show_Photo_Location_Plan_View']    = Show_Photo_Location_Plan_View\n",
        "ppk.ppk_user_settings['Show_Photo_Elevations']            = Show_Photo_Elevations\n",
        "ppk.ppk_user_settings['Debugging_Output']                 = Debugging_Output\n",
        "\n",
        "# display(ppk.ppk, ppk.ppk_user_settings)\n",
        "ppk.process_cww_ppk_files( ppk.ppk, ppk.ppk_user_settings )"
      ],
      "execution_count": 0,
      "outputs": []
    },
    {
      "cell_type": "code",
      "metadata": {
        "id": "8ysRSvLJCK1Y",
        "colab_type": "code",
        "colab": {}
      },
      "source": [
        ""
      ],
      "execution_count": 0,
      "outputs": []
    },
    {
      "cell_type": "code",
      "metadata": {
        "colab_type": "code",
        "id": "Vl3OpmbCXjet",
        "scrolled": false,
        "colab": {},
        "cellView": "form"
      },
      "source": [
        "#@title Reload the library after making changes.\n",
        "from importlib import reload\n",
        "reload(ppk)"
      ],
      "execution_count": 0,
      "outputs": []
    },
    {
      "cell_type": "code",
      "metadata": {
        "colab_type": "code",
        "id": "YzO0rXtfXbnE",
        "colab": {},
        "cellView": "form"
      },
      "source": [
        "#@title setup for working standalone on windows\n",
        "import sys\n",
        "import os\n",
        "sys.path.append('c:/Users/Wright/Documents/GitHub/cwwppkgeotaglib')\n",
        "import cwwppkgeotaglib as ppk"
      ],
      "execution_count": 0,
      "outputs": []
    }
  ]
}