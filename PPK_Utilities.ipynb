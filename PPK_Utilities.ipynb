{
  "nbformat": 4,
  "nbformat_minor": 0,
  "metadata": {
    "colab": {
      "name": "PPK_Utilities.ipynb",
      "private_outputs": true,
      "provenance": [],
      "toc_visible": true,
      "authorship_tag": "ABX9TyPQ01lB9xO8ZHcOnhIO2HMd",
      "include_colab_link": true
    },
    "kernelspec": {
      "name": "python3",
      "display_name": "Python 3"
    }
  },
  "cells": [
    {
      "cell_type": "markdown",
      "metadata": {
        "id": "view-in-github",
        "colab_type": "text"
      },
      "source": [
        "<a href=\"https://colab.research.google.com/github/lidar532/ppkgeotag/blob/2020-1020-dev/PPK_Utilities.ipynb\" target=\"_parent\"><img src=\"https://colab.research.google.com/assets/colab-badge.svg\" alt=\"Open In Colab\"/></a>"
      ]
    },
    {
      "cell_type": "code",
      "metadata": {
        "id": "VGiAQG0ojBJz",
        "cellView": "form"
      },
      "source": [
        "#@title Step 0.  Required first step. Load functions and defs. \n",
        "if __name__ == '__main__':\n",
        "  PPK_Utilities_asof = 'PPK_Utilities_asof:2020-1020-1547'\n",
        "  print(PPK_Utilities_asof)\n",
        "\n",
        "import pathlib\n",
        "import importlib\n",
        "import subprocess\n",
        "import os\n",
        "\n",
        "#@title def teqc_install()  {form-width: \"35%\"} \n",
        "# Get and install teqc\n",
        "def teqc_install():\n",
        "  import os\n",
        "  import subprocess as sp\n",
        "  state = 'initial.'\n",
        "  os.chdir('/content/')\n",
        "  print(f'teqc_install(): ', end='')\n",
        "  #rv = sp.run(f'which teqc', shell=True)\n",
        "  rv = !which teqc\n",
        "  if rv == []:\n",
        "    print('Downloading and installing Teqc from Unavco.  ', end='')\n",
        "    sp.run(f'wget https://www.unavco.org/software/data-processing/teqc/development/teqc_Lx86_64s.zip', shell=True)\n",
        "    sp.run(f'unzip teqc_Lx86_64s.zip', shell=True)\n",
        "    sp.run(f'mv teqc /usr/local/bin', shell=True)\n",
        "    sp.run(f'rm -rf teqc_Lx86_64s.zip', shell=True)\n",
        "    state = ' Teqc installed.'\n",
        "  else:\n",
        "    a = 1;\n",
        "    state='Teqc was already installed.'\n",
        "  print(state)\n",
        "\n",
        "  try:\n",
        "    import google.colab\n",
        "    IN_COLAB = True\n",
        "  except:\n",
        "    IN_COLAB = False\n",
        "\n",
        "############################  Tree\n",
        "if __name__ == '__main__':\n",
        "  rv = ! which tree\n",
        "  if rv == []:\n",
        "    ! apt-get install tree\n",
        "  else:\n",
        "    print('    tree was already installed.')\n",
        "############################  Tree\n",
        "\n",
        "############################ RTKlib\n",
        "if __name__ == '__main__':\n",
        "  rv = ! which rnx2rtkp\n",
        "  if rv == []:\n",
        "    !cd /usr/local/bin; rm  -rf convbin rnx2rtkp pos2kml rtkrcv str2str\n",
        "    !cd /content/;       rm -rf RTKLIB\n",
        "    !cd /usr/local/src/; rm -rf RTKLIB\n",
        "    !cd /usr/local/src; git clone https://github.com/lidar532/RTKLIB.git\n",
        "    !cd /usr/local/src/RTKLIB/app/; make install\n",
        "    !cd /usr/local/bin; chmod uog+x rnx2rtkp convbin pos2kml rtkrcv str2str\n",
        "    rtk_lib_loaded = True\n",
        "  else:\n",
        "    rtk_lib_loaded = True\n",
        "    print('  RTKlib was already installed.')\n",
        "############################ RTKlib\n",
        "\n",
        "############################ Georinex\n",
        "  # Install geprinex package if not already loaded.\n",
        "  if importlib.util.find_spec('georinex') is None:\n",
        "    !pip install georinex\n",
        "  else:\n",
        "    print('georinex was already installed.')\n",
        "############################ Georinex\n",
        "\n",
        "if __name__ == '__main__':\n",
        "  teqc_install()\n"
      ],
      "execution_count": null,
      "outputs": []
    },
    {
      "cell_type": "code",
      "metadata": {
        "id": "4LnvxJ_LjfFv",
        "cellView": "form"
      },
      "source": [
        "#@title Step 1. Mount your Google Drive as /content/Gdrive \n",
        "from google.colab import drive\n",
        "!rm -rf /content/sample_data/\n",
        "drive.mount('/content/.gdrive')\n",
        "!ln -sf /content/.gdrive/My\\ Drive/ /content/Gdrive\n",
        "print('Your Gdrive is mounted')"
      ],
      "execution_count": null,
      "outputs": []
    },
    {
      "cell_type": "markdown",
      "metadata": {
        "id": "jDoNx-hXjEut"
      },
      "source": [
        "# PPK Utilities "
      ]
    },
    {
      "cell_type": "markdown",
      "metadata": {
        "id": "Q-x0hyjvqKjl"
      },
      "source": [
        "# Project Tools"
      ]
    },
    {
      "cell_type": "code",
      "metadata": {
        "id": "UKbfZ98hkMla",
        "cellView": "form"
      },
      "source": [
        "#@title P1.0 **(Optional)** Setup A new Project Directory Tree {form-width: \"25%\"}\n",
        "if __name__ == '__main__':\n",
        "  My_Project = '2020-0927-MARKS' #@param {type:\"string\"}\n",
        "\n",
        "  rv = !rm -rf /content/{My_Project}\n",
        "  rv = !mkdir -p /content/{My_Project}\n",
        "  gnss_dir = f'/content/{My_Project}/{My_Project}_GNSS/'\n",
        "  pix_dir  = f'/content/{My_Project}/{My_Project}_pix/'\n",
        "  sfm_dir  = f'/content/{My_Project}/{My_Project}_sfm/'\n",
        "  prod_dir =  f'/content/{My_Project}/{My_Project}_products/'\n",
        "  rv = !mkdir -p {gnss_dir}\n",
        "  rv = !mkdir -p {pix_dir}\n",
        "  rv = !mkdir -p {sfm_dir}\n",
        "  rv = !mkdir -p {prod_dir}\n",
        "\n",
        "  rv = !cd {gnss_dir}; mkdir -p aircraft aircraft/raw aircraft/rinex aircraft/exif aircraft/pix_pos aircraft/trajectories \\\n",
        "      bases  Ground_Control\n",
        "  rv = !cd {pix_dir}; mkdir  -p raw jpg field_jpg50 \n",
        "  rv = !cd {prod_dir}; mkdir -p Reports laz dsm ortho\n",
        "  !tree {My_Project}\n",
        "  print(My_Project,\" is setup.\\nOperation Complete.\")"
      ],
      "execution_count": null,
      "outputs": []
    },
    {
      "cell_type": "code",
      "metadata": {
        "id": "oJkB73M51AsY",
        "cellView": "form"
      },
      "source": [
        "#@title P3.0 Zip a project directory for downloading. {form-width: \"25%\"}\n",
        "#@markdown Paste or type a directory or file below to zip.\n",
        "if __name__ == '__main__':\n",
        "  Zip_Name = \"\" #@param {type:\"string\"}\n",
        "  print(f'Zipping: {Zip_Name}  Standby.')\n",
        "  !zip -qr {Zip_Name} {Zip_Name}/*\n",
        "  print('Operation Completed.')\n"
      ],
      "execution_count": null,
      "outputs": []
    },
    {
      "cell_type": "code",
      "metadata": {
        "id": "koi1FBDUmpPA",
        "cellView": "form"
      },
      "source": [
        "#@title P2.0 (Optional) Unzip a Project {form-width: \"25%\"}\n",
        "if __name__ == '__main__':\n",
        "  Project_Zip_File = \"\" #@param {type:\"string\"}\n",
        "  print(f'UnZipping {Project_Zip_File} Standby.')\n",
        "  rv = ! cd /; unzip  -qo {Project_Zip_File} \n",
        "  print(f'Operation Completed.')\n",
        "  if rv != []:\n",
        "    print(rv[0])"
      ],
      "execution_count": null,
      "outputs": []
    },
    {
      "cell_type": "code",
      "metadata": {
        "id": "6l58NF6u1UWa",
        "cellView": "form"
      },
      "source": [
        "#@title P4.0 Display a Project Tree\n",
        "if __name__ == '__main__':\n",
        "  My_Project = \"/content/Gdrive/Missions/Uas/2020-1008-Fenwick\" #@param {type:\"string\"}\n",
        "  Tree_ops = \"Dirs Only\" #@param [\"Dirs Only\", \"All Files\"]\n",
        "  if Tree_ops == 'Dirs Only':\n",
        "    ops ='-d'\n",
        "  else:\n",
        "    ops = ''\n",
        "  \n",
        "  !tree {ops} {My_Project}"
      ],
      "execution_count": null,
      "outputs": []
    },
    {
      "cell_type": "markdown",
      "metadata": {
        "id": "nl5OvmXzkOzk"
      },
      "source": [
        "# RINEX File Utilities.\n",
        "\n",
        "\n"
      ]
    },
    {
      "cell_type": "markdown",
      "metadata": {
        "id": "gkoPFxboKEx9"
      },
      "source": [
        "## Convert CWW-PPK raw data to RINEX"
      ]
    },
    {
      "cell_type": "code",
      "metadata": {
        "id": "4eB53CYjtdd3",
        "cellView": "form"
      },
      "source": [
        "#@title A.1.1: Convert a CWW-PPK raw GPS data file to RINEX for processing. {form-width: \"25%\"}\n",
        "\n",
        "#@markdown The first thing that must be done is converting your raw GNSS receiver data to RINEX.\n",
        "#@markdown Use this cell to convert CWW-PPK raw data files to RINEX.  You need this for\n",
        "#@markdown the UAS PPK data.  If you are using a second CWW-PPK in \"Base Station\" mode, you can\n",
        "#@markdown it for that also.  If you are using another survey grade receiver, you will probably\n",
        "#@markdown need to use tools specific to that receiver to convert it to RINEX.  RINEX is the required\n",
        "#@markdown data format for use with this software package.\n",
        "if __name__ == '__main__':\n",
        "  Raw_File_Name = \"/content/Gdrive/Missions/Uas/2020-1008-Fenwick/2020-1008-Fenwick_GNSS/bases/local-fenwick/2020-1008-173123-Fenwichbase-GP173104.RAW\" #@param {type:\"string\"}\n",
        "  Aircraft_RINEX_Dir = \"/content/tmp\" #@param {type:\"string\"}\n",
        "  Data_Source   = \"zebra\" #@param [\"Solo\", \"M600\", \"N7251F\", \"CCX\", \"TFR\"] {allow-input: true}\n",
        "  Marker_Name   = \"zebra\" #@param {type:\"string\"}\n",
        "  User_Comment  = \"2020-0927 Zebra\" #@param {type:\"string\"}\n",
        "\n",
        "  try:\n",
        "    rtk_lib_loaded\n",
        "    import re\n",
        "    import os as os\n",
        "    import georinex as gr\n",
        "  except NameError:\n",
        "    print('Run the above \"**Step 0. **\" cell above to configure tools.')\n",
        "  else:\n",
        "    if os.path.exists(Raw_File_Name):\n",
        "      # Build up command string for the RTKlib convbin program.\n",
        "      c1='-hc \\''+User_Comment+'\\' '\n",
        "      c2='-hc \\''+Data_Source+'\\' '\n",
        "      hm='-hm \\''+Marker_Name+'\\' '\n",
        "      fn_root = str.split(Raw_File_Name,\"/\")[-1]\n",
        "      fn_root = str.split(fn_root,'.')[0]\n",
        "      cmd = '/usr/local/bin/convbin -os -od -f 2 -ti 1 -r nov '+c1+hm+Raw_File_Name\n",
        "      print(cmd)\n",
        "      print('Converting raw to RINEX')\n",
        "      os.system( cmd )\n",
        "      #!head -20 /content/GP212112.obs\n",
        "\n",
        "\n",
        "      # Extract the base file name after all '/' and before any '.'\n",
        "      orig_root_fn = os.path.basename(Raw_File_Name)\n",
        "      orig_root_fn = os.path.splitext(orig_root_fn)[0]\n",
        "      orig_path  = os.path.dirname(Raw_File_Name)\n",
        "\n",
        "      # build up path name for the RINEX .obs file that should now exist\n",
        "      fobs = orig_path+'/'+orig_root_fn+'.obs'\n",
        "\n",
        "      # extract the RINEXT Header information to get the data & time and other fields\n",
        "      print('Reading the RINEX obs, extracting data & time.')\n",
        "      rnx=gr.rinexheader(fobs)\n",
        "      rnx['t0'].date(), rnx['t0'].time()\n",
        "      ofn = format(rnx['t0'], '%Y-%m%d-%H%M%S-')+Data_Source+'-'+fn_root\n",
        "\n",
        "      # Rename all of the generate RINEX files using the computed root name.\n",
        "      d = os.listdir(orig_path)\n",
        "      print('Renaming all of the RINEX files')\n",
        "      for i in d:\n",
        "        if re.match( os.path.splitext(i)[0], orig_root_fn  ):\n",
        "          ext = os.path.splitext(i)[1]\n",
        "          new_fn = orig_path+'/'+ofn+ext\n",
        "          new_fn = re.sub(r\"[\\n\\t\\s]*\", \"\", new_fn)\n",
        "          old_fn = orig_path+'/'+i\n",
        "          print(old_fn, new_fn)\n",
        "          os.rename(old_fn, new_fn)\n",
        "      if Aircraft_RINEX_Dir !='':\n",
        "        !mv {orig_path}/*obs {orig_path}/*.nav {orig_path}/*.gnav {Aircraft_RINEX_Dir}\n",
        "      print('Operation completed.')\n",
        "    else:\n",
        "      print(Raw_File_Name+' not found.')"
      ],
      "execution_count": null,
      "outputs": []
    },
    {
      "cell_type": "markdown",
      "metadata": {
        "id": "WQ3LDuC_KouR"
      },
      "source": [
        "## Show Start, Stop and stats for a RINEX file."
      ]
    },
    {
      "cell_type": "code",
      "metadata": {
        "id": "TQjKYO6zCI_p",
        "cellView": "form"
      },
      "source": [
        "#@title Show Start, Stop times, stats of a RINEX obs file(s).\n",
        "#@markdown Uses Teqc +qc to determine the start & stop time, and some stats.\n",
        "if __name__ == '__main__':\n",
        "  Path_Names = \"/content/Gdrive/Missions/Uas/2020-1006-MARKS/2020-1006-MARKS_GNSS/aircraft/rinex/2020-1006-173431-White-GP173410.obs /content/Gdrive/Missions/Uas/2020-1006-MARKS/2020-1006-MARKS_GNSS/aircraft/rinex/2020-1006-173531-yellow-GP173510.obs /content/Gdrive/Missions/Uas/2020-1006-MARKS/2020-1006-MARKS_GNSS/aircraft/rinex/2020-1006-173700-Green-GP173640.obs  /content/Gdrive/Missions/Uas/2020-1006-MARKS/2020-1006-MARKS_GNSS/aircraft/rinex/2020-1006-191127-Zebra-all.obs\" #@param {type:\"string\"}\n",
        "  Path_Names = Path_Names.split()\n",
        "  for fn in Path_Names:\n",
        "    print(fn)\n",
        "    junk = ! teqc +qc {fn} 2>/dev/null\n",
        "    id  = junk.grep('4-character ID')\n",
        "    beg = junk.grep('Time of ')[0]\n",
        "    end = junk.grep('Time of ')[1]\n",
        "    sumhead = junk.grep('first epoch')[0]\n",
        "    summary = junk.grep('SUM')[0]\n",
        "    print(f'{id}\\n{beg}\\n{end}\\n{sumhead}\\n{summary}\\n')\n",
        "\n"
      ],
      "execution_count": null,
      "outputs": []
    },
    {
      "cell_type": "markdown",
      "metadata": {
        "id": "EuyUkwpkKcH5"
      },
      "source": [
        "## Teqc Quality Report"
      ]
    },
    {
      "cell_type": "code",
      "metadata": {
        "id": "S-B6Kteyqf-S",
        "cellView": "form"
      },
      "source": [
        "#@title A.1.2 QC a RINEX Observation (*.Obs or *.19o) file using Teqc {form-width: \"25%\"}\n",
        "#@markdown See [Page 34 of the UNAVCO Teqc Tutorial](https://www.unavco.org/software/data-processing/teqc/doc/UNAVCO_Teqc_Tutorial.pdf) for help interpreting the output.\n",
        "if __name__ == '__main__':\n",
        "  OBS_File_QC = \"/content/tmp/2020-1008-190733-Fenwichbase-all.obs\" #@param {type:\"string\"}\n",
        "  !teqc +qc {OBS_File_QC} 2>/content/errors.txt"
      ],
      "execution_count": null,
      "outputs": []
    },
    {
      "cell_type": "markdown",
      "metadata": {
        "id": "_np9C-nKKOvc"
      },
      "source": [
        "## Prepare RINEX data to send to OPUS"
      ]
    },
    {
      "cell_type": "code",
      "metadata": {
        "id": "NzXqPcwxxpQ9"
      },
      "source": [
        "#@title Prepare Base RINEX to send to OPUS or to use with RTKlib (static). { form-width: \"25%\" }\n",
        "#@markdown If you setup a local base station using a \n",
        "#@markdown second CWW-PPK or other GNSS receiver you can\n",
        "#@markdown use this cell to generate the necessary RINEX\n",
        "#@markdown data files to send to \n",
        "#@markdown [OPUS](https://www.ngs.noaa.gov/OPUS/).\n",
        "#@markdown [OPUS](https://www.ngs.noaa.gov/OPUS/) gives you\n",
        "#@markdown the highest accuracy location\n",
        "#@markdown of your base station.\n",
        "#@markdown This cell can process raw CWW-PPK data or RINEX\n",
        "#@markdown data from another GNSS receiver.\n",
        "#@markdown It will  re-sample your base station data\n",
        "#@markdown to a specified interval. A 30 second interval is \n",
        "#@markdown recommended.\n",
        "#@markdown It is important to use the correct antenna type ID when\n",
        "#@markdown when you process this.  Not doing so can cause\n",
        "#@markdown the resulting positon to be in error by 10cm or more\n",
        "#@markdown depending on your base station antenna make/model.\n",
        "#@markdown Much more information on OPUS canbe found in this document: [OPUS_2012_MALSCE.pdf](https://outside.vermont.gov/agency/vtrans/external/docs/geodetic/OPUS_2012_MALSCE.pdf)\n",
        "\n",
        "\n",
        "if __name__ == '__main__':\n",
        "  Base_Marker_Name = \"2020-0927-MARKS\" #@param [\"CWW_PPK_BASE\", \"\"] {allow-input: true}\n",
        "  OPUS_Sample_Interval_Seconds =  30 #@param {type:\"integer\"}\n",
        "  Base_Antenna_Type = \"CNTAT330\" #@param [\"CNTAT330\", \"\"] {allow-input: true}\n",
        "  Base_Receiver_Data_Format = \"RINEX\" #@param [\"Raw-CWW-PPK\", \"RINEX\"] {allow-input: true}\n",
        "  Base_Raw_File = \"/content/tmp/2020-1008-190733-Fenwichbase-GP190714.obs\" #@param {type:\"string\"}\n",
        "  Base_User_Comment = \"\" #@param {type:\"string\"}\n",
        "\n",
        "  Base_Rx_Types = {\n",
        "      'NovAtel OEMV/4/6,OEMStar'    : 'nov',\n",
        "      'NovAtel OEM3'                : 'oem3',\n",
        "      'ublox LEA-4T/5T/6T/7T/M8T'   : 'ubx',\n",
        "      'Swift Navigation SBP'        : 'sbp',\n",
        "      'Hemisphere Eclipse/Crescent' : 'hemis',\n",
        "      'SkyTraq S1315F'              : 'stq',\n",
        "      'Javad'                       : 'javad',\n",
        "      'Trimble RT17'                : 'rt17',\n",
        "      'Septentrio SBF'              : 'sbf',\n",
        "      'BINEX'                       : 'binex',\n",
        "      'TERSUS'                      : 'tersus',\n",
        "      'RINEX'                       : 'rinex'\n",
        "      }\n",
        "\n",
        "  Rx_fmt = { \n",
        "            'Raw-CWW-PPK'   : 'nov',\n",
        "            'RINEX'         : 'rinex'\n",
        "            }\n",
        "\n",
        "\n",
        "  opus_dir = os.path.dirname( Base_Raw_File )+'/opus'\n",
        "  print('Generating RINEX data for OPUS.')\n",
        "  !/usr/local/bin/convbin \\\n",
        "    -r {Rx_fmt[Base_Receiver_Data_Format]} \\\n",
        "    -hm {Base_Marker_Name} \\\n",
        "    -ti {OPUS_Sample_Interval_Seconds} \\\n",
        "    -tt 0.02 \\\n",
        "    -ha {Base_Antenna_Type} \\\n",
        "    -c {Base_Marker_Name} \\\n",
        "    -d {os.path.dirname( Base_Raw_File )+'/'}opus \\\n",
        "    {Base_Raw_File} 2> errors.txt\n",
        "  !grep -h 'TIME OF' {opus_dir+'/*'}\n",
        "  !grep -h 'ANT #'   {opus_dir+'/*'}\n",
        "  print(opus_dir)\n",
        "  ! ls -la {opus_dir}\n",
        "  print('Operation completed.  Download the generated observation data and send to OPUS.')"
      ],
      "execution_count": null,
      "outputs": []
    },
    {
      "cell_type": "markdown",
      "metadata": {
        "id": "ZCxfMhABKUnV"
      },
      "source": [
        "## Concatenate RINEX files with teqc"
      ]
    },
    {
      "cell_type": "code",
      "metadata": {
        "id": "r3YJS8GwoGoL",
        "cellView": "form"
      },
      "source": [
        "#@title A1.1.2: Concatenate RINEX files using teqc\n",
        "if __name__ == '__main__':\n",
        "  File_1 = \"/content/Gdrive/Missions/Uas/2020-1008-Fenwick/2020-1008-Fenwick_GNSS/bases/local-fenwick/2020-1008-173123-Fenwichbase-GP173104.obs\" #@param {type:\"string\"}\n",
        "  File_2 = \"/content/Gdrive/Missions/Uas/2020-1008-Fenwick/2020-1008-Fenwick_GNSS/bases/local-fenwick/2020-1008-190733-Fenwichbase-GP190714.obs\" #@param {type:\"string\"} \n",
        "  File_3 = \"\" #@param {type:\"string\"}\n",
        "  File_4 = \"\" #@param {type:\"string\"} \n",
        "  File_5 = \"\" #@param {type:\"string\"}\n",
        "  File_6 = \"\" #@param {type:\"string\"}\n",
        "  Output_file = \"/content/tmp/concated-rinex.obs\" #@param {type:\"string\"}\n",
        "  !teqc {File_1} {File_2} {File_3} {File_4} {File_5} {File_6} >{Output_file}"
      ],
      "execution_count": null,
      "outputs": []
    },
    {
      "cell_type": "markdown",
      "metadata": {
        "id": "CQPSnqce92LK"
      },
      "source": [
        "# General Purpose File Utilities"
      ]
    },
    {
      "cell_type": "markdown",
      "metadata": {
        "id": "UrNwHDZeIGHF"
      },
      "source": [
        "## Head & Tail ***File***"
      ]
    },
    {
      "cell_type": "code",
      "metadata": {
        "id": "3JkCq2Wj-7ww",
        "cellView": "form"
      },
      "source": [
        "#@title Display the head and tail of a File. {form-width: \"25%\"}\n",
        "##show_file_head = \"Base_RINEX\" #@param ['Base_RINEX', 'Base_RINEX_Nav', 'Base_GPS_SP3', 'Base_RINEX_Gnav', 'Base_GLO_SP3' ]\n",
        "if __name__ == '__main__':\n",
        "  show_file_head = \"/content/Gdrive/Missions/Uas/2020-1008-Fenwick/2020-1008-Fenwick_GNSS/aircraft/trajectories/2020-1008-White-all-Fenwick-UK15N-cmb-pos.txt\" #@param {type:\"string\"}\n",
        "  Head_Lines_to_display =  27#@param [\"20\", \"30\", \"40\", \"50\", \"75\", \"100\"] {type:\"raw\", allow-input: true}\n",
        "  Tail_Lines_to_display =  3#@param [\"20\", \"30\", \"40\", \"50\", \"75\", \"100\"] {type:\"raw\", allow-input: true}\n",
        "  print('==========================================[ Head ] =========================================')\n",
        "  !head -{Head_Lines_to_display} {show_file_head}\n",
        "  print('\\n========================================[ Tail ] =========================================')\n",
        "  !tail -{Tail_Lines_to_display} {show_file_head}"
      ],
      "execution_count": null,
      "outputs": []
    },
    {
      "cell_type": "markdown",
      "metadata": {
        "id": "TlhmPCT0IOe9"
      },
      "source": [
        "## Show size of a ***path(s)***"
      ]
    },
    {
      "cell_type": "code",
      "metadata": {
        "id": "ftHW-ROp-Hx_",
        "cellView": "form"
      },
      "source": [
        "#@title ! du -skh {Path_Name}  Show path size.\n",
        "if __name__ == '__main__':\n",
        "  Path_Name = \"/content/Gdrive/Missions/NC_Coast/2020-0928-NC_GNSS/bases/CORS  /content/Gdrive/Missions/NC_Coast/2020-0928-NC_GNSS/bases/CORS-old /content/Gdrive/Missions/NC_Coast/2020-0928-NC_GNSS/aircraft/rinex\" #@param {type:\"string\"}\n",
        "  ! du -skh {Path_Name}"
      ],
      "execution_count": null,
      "outputs": []
    },
    {
      "cell_type": "markdown",
      "metadata": {
        "id": "KlQHRjYcFk56"
      },
      "source": [
        "## Head ***file***"
      ]
    },
    {
      "cell_type": "code",
      "metadata": {
        "id": "PtI6D3IKpGrW",
        "cellView": "form"
      },
      "source": [
        "#@title Display the head of a File. {form-width: \"25%\"}\n",
        "##show_file_head = \"Base_RINEX\" #@param ['Base_RINEX', 'Base_RINEX_Nav', 'Base_GPS_SP3', 'Base_RINEX_Gnav', 'Base_GLO_SP3' ]\n",
        "if __name__ == '__main__':\n",
        "  show_file_head = \"/content/tmp/opus/2020-0927-MARKS2820.20O\" #@param {type:\"string\"}\n",
        "  Lines_to_display = 50 #@param [\"20\", \"30\", \"40\", \"50\", \"75\", \"100\"] {type:\"raw\", allow-input: true}\n",
        "  !head -{Lines_to_display} {show_file_head}"
      ],
      "execution_count": null,
      "outputs": []
    },
    {
      "cell_type": "markdown",
      "metadata": {
        "id": "uRqnfA8iFwMr"
      },
      "source": [
        "## Tail ***file***"
      ]
    },
    {
      "cell_type": "code",
      "metadata": {
        "id": "PBaQGw_Xpb_0",
        "cellView": "form"
      },
      "source": [
        "#@title Display the tail of a File. {form-width: \"25%\"}\n",
        "##show_file_head = \"Base_RINEX\" #@param ['Base_RINEX', 'Base_RINEX_Nav', 'Base_GPS_SP3', 'Base_RINEX_Gnav', 'Base_GLO_SP3' ]\n",
        "if __name__ == '__main__':\n",
        "  show_file_head = \"/content/tmp/concated-rinex.obs\" #@param {type:\"string\"}\n",
        "  Lines_to_display = 50 #@param [\"20\", \"30\", \"40\", \"50\", \"75\", \"100\"] {type:\"raw\", allow-input: true}\n",
        "  !tail -{Lines_to_display} {show_file_head}"
      ],
      "execution_count": null,
      "outputs": []
    },
    {
      "cell_type": "markdown",
      "metadata": {
        "id": "CBGj_en4Il6O"
      },
      "source": [
        "## mv ***source_path destination_path***"
      ]
    },
    {
      "cell_type": "code",
      "metadata": {
        "id": "jJsvMAOt963E",
        "cellView": "form"
      },
      "source": [
        "#@title ! mv -r Source_Path Destination_path\n",
        "if __name__ == '__main__':\n",
        "  Source_Path      = \"\" #@param {type:\"string\"}\n",
        "  Destination_Path = \"\" #@param {type:\"string\"}  \n",
        "  Flag = \"Verbose\" #@param [\"Verbose\", \"Quiet\"]\n",
        "  if Flag == 'Verbose':\n",
        "    q = 'v'\n",
        "  else:\n",
        "    q = ''   \n",
        "  ! mv -{q}f {Source_Path} {Destination_Path}"
      ],
      "execution_count": null,
      "outputs": []
    },
    {
      "cell_type": "markdown",
      "metadata": {
        "id": "p8wg7u4pIxXr"
      },
      "source": [
        "## gzip -rv ***path_name***"
      ]
    },
    {
      "cell_type": "code",
      "metadata": {
        "id": "oqv9nT2v99Af",
        "cellView": "form"
      },
      "source": [
        "#@title ! gzip -rv Path_Name\n",
        "if __name__ == '__main__':\n",
        "  Path_Name = \"\" #@param {type:\"string\"}\n",
        "  Flag = \"Verbose\" #@param [\"Verbose\", \"Quiet\"]\n",
        "  if Flag == 'Verbose':\n",
        "    q = 'v'\n",
        "  else:\n",
        "    q = '' \n",
        "  initial_size = ! du -skh {Path_Name}\n",
        "  ! gzip -r{q} {Path_Name}\n",
        "  final_size = ! du -skh {Path_Name}\n",
        "  print(f'Starting: {initial_size}\\n  Ending: {final_size}')"
      ],
      "execution_count": null,
      "outputs": []
    },
    {
      "cell_type": "markdown",
      "metadata": {
        "id": "rZOy8khTI7gM"
      },
      "source": [
        "## gunzip -rv ***path_name***"
      ]
    },
    {
      "cell_type": "code",
      "metadata": {
        "id": "9QWK5a-c-CLX",
        "cellView": "form"
      },
      "source": [
        "#@title ! gunzip -rv {Path_Name}\n",
        "if __name__ == '__main__':\n",
        "  Path_Name = \"\" #@param {type:\"string\"}\n",
        "  Flag = \"Quiet\" #@param [\"Verbose\", \"Quiet\"]\n",
        "  if Flag == 'Verbose':\n",
        "    q = 'v'\n",
        "  else:\n",
        "    q = '' \n",
        "  initial_size = ! du -skh {Path_Name}\n",
        "  ! gunzip -r{q} {Path_Name}\n",
        "  final_size = ! du -skh {Path_Name}\n",
        "  print(f'Starting: {initial_size}\\n  Ending: {final_size}')\n"
      ],
      "execution_count": null,
      "outputs": []
    },
    {
      "cell_type": "markdown",
      "metadata": {
        "id": "cKlt2qMjJCym"
      },
      "source": [
        "## cat ***file1 file2 file3 file4 file5 file6 >output_file***"
      ]
    },
    {
      "cell_type": "code",
      "metadata": {
        "id": "0Dj2Ac1arXlb",
        "cellView": "form"
      },
      "source": [
        "#@title Concatenate files using Linux cat\n",
        "if __name__ == '__main__':\n",
        "  File_1 = \"/content/Gdrive/Missions/Uas/2020-0927-MARKS/2020-0927-MARKS_GNSS/aircraft/raw/white/2020-0927-185520-White-GP185502.TXT\" #@param {type:\"string\"}\n",
        "  File_2 = \"/content/Gdrive/Missions/Uas/2020-0927-MARKS/2020-0927-MARKS_GNSS/aircraft/raw/white/2020-0927-202423-White-GP202404.TXT\" #@param {type:\"string\"} \n",
        "  File_3 = \"/content/Gdrive/Missions/Uas/2020-0927-MARKS/2020-0927-MARKS_GNSS/aircraft/raw/white/2020-0927-214122-White-GP214102.TXT\" #@param {type:\"string\"}\n",
        "  File_4 = \"\" #@param {type:\"string\"} \n",
        "  File_5 = \"\" #@param {type:\"string\"}\n",
        "  File_6 = \"\" #@param {type:\"string\"}\n",
        "  Output_file = \"/content/Gdrive/Missions/Uas/2020-0927-MARKS/2020-0927-MARKS_GNSS/aircraft/raw/white/2020-0927white-all.TXT\" #@param {type:\"string\"}\n",
        "  !cat {File_1} {File_2} {File_3} {File_4} {File_5} {File_6} >{Output_file}"
      ],
      "execution_count": null,
      "outputs": []
    },
    {
      "cell_type": "markdown",
      "metadata": {
        "id": "kkPHVCxBJU4Y"
      },
      "source": [
        "## rm ***path***"
      ]
    },
    {
      "cell_type": "code",
      "metadata": {
        "id": "QQYqbuzF_-wQ",
        "cellView": "form"
      },
      "source": [
        "#@title ! rm -rvf {Path_Name}\n",
        "if __name__ == '__main__':\n",
        "  Path_Name = \"\" #@param {type:\"string\"}\n",
        "  Flag = \"Verbose\" #@param [\"Verbose\", \"Quiet\"]\n",
        "  Force = \"No\" #@param [\"Yes\", \"No\"]\n",
        "  \n",
        "  if Force == 'Yes':\n",
        "    f = ''\n",
        "  else:\n",
        "    f = 'i'\n",
        "\n",
        "  if Flag == 'Verbose':\n",
        "    q = 'v'\n",
        "  else:\n",
        "    q = ''\n",
        "  if Path_Name != '':   \n",
        "    ! rm -r{q}{f} {Path_Name}\n",
        "  else:\n",
        "    print('No file(s) specified.  Nothing to do.')"
      ],
      "execution_count": null,
      "outputs": []
    },
    {
      "cell_type": "markdown",
      "metadata": {
        "id": "RxsC_GwEhWot"
      },
      "source": [
        "# User command cells"
      ]
    },
    {
      "cell_type": "code",
      "metadata": {
        "id": "z79ADnWMhSjQ"
      },
      "source": [
        ""
      ],
      "execution_count": null,
      "outputs": []
    },
    {
      "cell_type": "code",
      "metadata": {
        "id": "0BQIcMd2hdp1"
      },
      "source": [
        ""
      ],
      "execution_count": null,
      "outputs": []
    },
    {
      "cell_type": "code",
      "metadata": {
        "id": "msP-bCBBhd11"
      },
      "source": [
        ""
      ],
      "execution_count": null,
      "outputs": []
    },
    {
      "cell_type": "code",
      "metadata": {
        "id": "AUEHVRK6heES"
      },
      "source": [
        ""
      ],
      "execution_count": null,
      "outputs": []
    }
  ]
}